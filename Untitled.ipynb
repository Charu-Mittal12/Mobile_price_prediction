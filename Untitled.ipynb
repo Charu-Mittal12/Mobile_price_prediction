{
 "cells": [
  {
   "cell_type": "code",
   "execution_count": 1,
   "id": "38972746",
   "metadata": {},
   "outputs": [],
   "source": [
    "# suppress warnings \n",
    "from warnings import filterwarnings\n",
    "filterwarnings('ignore')\n",
    "\n",
    "# 'Os' module provides functions for interacting with the operating system \n",
    "import os\n",
    "\n",
    "# 'Pandas' is used for data manipulation and analysis\n",
    "import pandas as pd \n",
    "\n",
    "# 'Numpy' is used for mathematical operations on large, multi-dimensional arrays and matrices\n",
    "import numpy as np\n",
    "\n",
    "# 'Matplotlib' is a data visualization library for 2D and 3D plots, built on numpy\n",
    "import matplotlib.pyplot as plt\n",
    "%matplotlib inline\n",
    "\n",
    "# 'Seaborn' is based on matplotlib; used for plotting statistical graphics\n",
    "import seaborn as sns\n",
    "\n",
    "from math import radians, cos, sin, sqrt, asin\n",
    "\n",
    "# 'Scikit-learn' (sklearn) emphasizes various regression, classification and clustering algorithms\n",
    "from sklearn.model_selection import train_test_split\n",
    "from sklearn import metrics\n",
    "from sklearn import preprocessing\n",
    "from sklearn.model_selection import GridSearchCV\n",
    "from sklearn.ensemble import RandomForestRegressor\n",
    "\n"
   ]
  },
  {
   "cell_type": "code",
   "execution_count": 2,
   "id": "d42edf4d",
   "metadata": {},
   "outputs": [],
   "source": [
    "df = pd.read_csv('mobile phone price prediction.csv')"
   ]
  },
  {
   "cell_type": "code",
   "execution_count": 3,
   "id": "cc00143b",
   "metadata": {},
   "outputs": [
    {
     "data": {
      "text/html": [
       "<div>\n",
       "<style scoped>\n",
       "    .dataframe tbody tr th:only-of-type {\n",
       "        vertical-align: middle;\n",
       "    }\n",
       "\n",
       "    .dataframe tbody tr th {\n",
       "        vertical-align: top;\n",
       "    }\n",
       "\n",
       "    .dataframe thead th {\n",
       "        text-align: right;\n",
       "    }\n",
       "</style>\n",
       "<table border=\"1\" class=\"dataframe\">\n",
       "  <thead>\n",
       "    <tr style=\"text-align: right;\">\n",
       "      <th></th>\n",
       "      <th>Unnamed: 0</th>\n",
       "      <th>Name</th>\n",
       "      <th>Rating</th>\n",
       "      <th>Spec_score</th>\n",
       "      <th>No_of_sim</th>\n",
       "      <th>Ram</th>\n",
       "      <th>Battery</th>\n",
       "      <th>Display</th>\n",
       "      <th>Camera</th>\n",
       "      <th>External_Memory</th>\n",
       "      <th>Android_version</th>\n",
       "      <th>Price</th>\n",
       "      <th>company</th>\n",
       "      <th>Inbuilt_memory</th>\n",
       "      <th>fast_charging</th>\n",
       "      <th>Screen_resolution</th>\n",
       "      <th>Processor</th>\n",
       "      <th>Processor_name</th>\n",
       "    </tr>\n",
       "  </thead>\n",
       "  <tbody>\n",
       "    <tr>\n",
       "      <th>0</th>\n",
       "      <td>0</td>\n",
       "      <td>Samsung Galaxy F14 5G</td>\n",
       "      <td>4.65</td>\n",
       "      <td>68</td>\n",
       "      <td>Dual Sim, 3G, 4G, 5G, VoLTE,</td>\n",
       "      <td>4 GB RAM</td>\n",
       "      <td>6000 mAh Battery</td>\n",
       "      <td>6.6 inches</td>\n",
       "      <td>50 MP + 2 MP Dual Rear &amp;amp; 13 MP Front Camera</td>\n",
       "      <td>Memory Card Supported, upto 1 TB</td>\n",
       "      <td>13</td>\n",
       "      <td>9,999</td>\n",
       "      <td>Samsung</td>\n",
       "      <td>128 GB inbuilt</td>\n",
       "      <td>25W Fast Charging</td>\n",
       "      <td>2408 x 1080 px Display with Water Drop Notch</td>\n",
       "      <td>Octa Core Processor</td>\n",
       "      <td>Exynos 1330</td>\n",
       "    </tr>\n",
       "    <tr>\n",
       "      <th>1</th>\n",
       "      <td>1</td>\n",
       "      <td>Samsung Galaxy A11</td>\n",
       "      <td>4.20</td>\n",
       "      <td>63</td>\n",
       "      <td>Dual Sim, 3G, 4G, VoLTE,</td>\n",
       "      <td>2 GB RAM</td>\n",
       "      <td>4000 mAh Battery</td>\n",
       "      <td>6.4 inches</td>\n",
       "      <td>13 MP + 5 MP + 2 MP Triple Rear &amp;amp; 8 MP Fro...</td>\n",
       "      <td>Memory Card Supported, upto 512 GB</td>\n",
       "      <td>10</td>\n",
       "      <td>9,990</td>\n",
       "      <td>Samsung</td>\n",
       "      <td>32 GB inbuilt</td>\n",
       "      <td>15W Fast Charging</td>\n",
       "      <td>720 x 1560 px Display with Punch Hole</td>\n",
       "      <td>1.8 GHz Processor</td>\n",
       "      <td>Octa Core</td>\n",
       "    </tr>\n",
       "    <tr>\n",
       "      <th>2</th>\n",
       "      <td>2</td>\n",
       "      <td>Samsung Galaxy A13</td>\n",
       "      <td>4.30</td>\n",
       "      <td>75</td>\n",
       "      <td>Dual Sim, 3G, 4G, VoLTE,</td>\n",
       "      <td>4 GB RAM</td>\n",
       "      <td>5000 mAh Battery</td>\n",
       "      <td>6.6 inches</td>\n",
       "      <td>50 MP Quad Rear &amp;amp; 8 MP Front Camera</td>\n",
       "      <td>Memory Card Supported, upto 1 TB</td>\n",
       "      <td>12</td>\n",
       "      <td>11,999</td>\n",
       "      <td>Samsung</td>\n",
       "      <td>64 GB inbuilt</td>\n",
       "      <td>25W Fast Charging</td>\n",
       "      <td>1080 x 2408 px Display with Water Drop Notch</td>\n",
       "      <td>2 GHz Processor</td>\n",
       "      <td>Octa Core</td>\n",
       "    </tr>\n",
       "    <tr>\n",
       "      <th>3</th>\n",
       "      <td>3</td>\n",
       "      <td>Samsung Galaxy F23</td>\n",
       "      <td>4.10</td>\n",
       "      <td>73</td>\n",
       "      <td>Dual Sim, 3G, 4G, VoLTE,</td>\n",
       "      <td>4 GB RAM</td>\n",
       "      <td>6000 mAh Battery</td>\n",
       "      <td>6.4 inches</td>\n",
       "      <td>48 MP Quad Rear &amp;amp; 13 MP Front Camera</td>\n",
       "      <td>Memory Card Supported, upto 1 TB</td>\n",
       "      <td>12</td>\n",
       "      <td>11,999</td>\n",
       "      <td>Samsung</td>\n",
       "      <td>64 GB inbuilt</td>\n",
       "      <td>NaN</td>\n",
       "      <td>720 x 1600 px</td>\n",
       "      <td>Octa Core</td>\n",
       "      <td>Helio G88</td>\n",
       "    </tr>\n",
       "    <tr>\n",
       "      <th>4</th>\n",
       "      <td>4</td>\n",
       "      <td>Samsung Galaxy A03s (4GB RAM + 64GB)</td>\n",
       "      <td>4.10</td>\n",
       "      <td>69</td>\n",
       "      <td>Dual Sim, 3G, 4G, VoLTE,</td>\n",
       "      <td>4 GB RAM</td>\n",
       "      <td>5000 mAh Battery</td>\n",
       "      <td>6.5 inches</td>\n",
       "      <td>13 MP + 2 MP + 2 MP Triple Rear &amp;amp; 5 MP Fro...</td>\n",
       "      <td>Memory Card Supported, upto 1 TB</td>\n",
       "      <td>11</td>\n",
       "      <td>11,999</td>\n",
       "      <td>Samsung</td>\n",
       "      <td>64 GB inbuilt</td>\n",
       "      <td>15W Fast Charging</td>\n",
       "      <td>720 x 1600 px Display with Water Drop Notch</td>\n",
       "      <td>Octa Core</td>\n",
       "      <td>Helio P35</td>\n",
       "    </tr>\n",
       "  </tbody>\n",
       "</table>\n",
       "</div>"
      ],
      "text/plain": [
       "   Unnamed: 0                                  Name  Rating  Spec_score  \\\n",
       "0           0                 Samsung Galaxy F14 5G    4.65          68   \n",
       "1           1                    Samsung Galaxy A11    4.20          63   \n",
       "2           2                    Samsung Galaxy A13    4.30          75   \n",
       "3           3                    Samsung Galaxy F23    4.10          73   \n",
       "4           4  Samsung Galaxy A03s (4GB RAM + 64GB)    4.10          69   \n",
       "\n",
       "                       No_of_sim       Ram            Battery     Display  \\\n",
       "0  Dual Sim, 3G, 4G, 5G, VoLTE,   4 GB RAM  6000 mAh Battery   6.6 inches   \n",
       "1      Dual Sim, 3G, 4G, VoLTE,   2 GB RAM  4000 mAh Battery   6.4 inches   \n",
       "2      Dual Sim, 3G, 4G, VoLTE,   4 GB RAM  5000 mAh Battery   6.6 inches   \n",
       "3      Dual Sim, 3G, 4G, VoLTE,   4 GB RAM   6000 mAh Battery  6.4 inches   \n",
       "4      Dual Sim, 3G, 4G, VoLTE,   4 GB RAM  5000 mAh Battery   6.5 inches   \n",
       "\n",
       "                                              Camera  \\\n",
       "0    50 MP + 2 MP Dual Rear &amp; 13 MP Front Camera   \n",
       "1  13 MP + 5 MP + 2 MP Triple Rear &amp; 8 MP Fro...   \n",
       "2            50 MP Quad Rear &amp; 8 MP Front Camera   \n",
       "3           48 MP Quad Rear &amp; 13 MP Front Camera   \n",
       "4  13 MP + 2 MP + 2 MP Triple Rear &amp; 5 MP Fro...   \n",
       "\n",
       "                      External_Memory Android_version   Price  company  \\\n",
       "0    Memory Card Supported, upto 1 TB              13   9,999  Samsung   \n",
       "1  Memory Card Supported, upto 512 GB              10   9,990  Samsung   \n",
       "2    Memory Card Supported, upto 1 TB              12  11,999  Samsung   \n",
       "3    Memory Card Supported, upto 1 TB              12  11,999  Samsung   \n",
       "4    Memory Card Supported, upto 1 TB              11  11,999  Samsung   \n",
       "\n",
       "    Inbuilt_memory       fast_charging  \\\n",
       "0   128 GB inbuilt   25W Fast Charging   \n",
       "1    32 GB inbuilt   15W Fast Charging   \n",
       "2    64 GB inbuilt   25W Fast Charging   \n",
       "3    64 GB inbuilt                 NaN   \n",
       "4    64 GB inbuilt   15W Fast Charging   \n",
       "\n",
       "                               Screen_resolution             Processor  \\\n",
       "0   2408 x 1080 px Display with Water Drop Notch   Octa Core Processor   \n",
       "1          720 x 1560 px Display with Punch Hole     1.8 GHz Processor   \n",
       "2   1080 x 2408 px Display with Water Drop Notch       2 GHz Processor   \n",
       "3                                  720 x 1600 px             Octa Core   \n",
       "4    720 x 1600 px Display with Water Drop Notch             Octa Core   \n",
       "\n",
       "  Processor_name  \n",
       "0    Exynos 1330  \n",
       "1      Octa Core  \n",
       "2      Octa Core  \n",
       "3      Helio G88  \n",
       "4      Helio P35  "
      ]
     },
     "execution_count": 3,
     "metadata": {},
     "output_type": "execute_result"
    }
   ],
   "source": [
    "df.head()"
   ]
  },
  {
   "cell_type": "code",
   "execution_count": null,
   "id": "ada233e8",
   "metadata": {},
   "outputs": [],
   "source": []
  },
  {
   "cell_type": "code",
   "execution_count": 4,
   "id": "f0f2ec92",
   "metadata": {},
   "outputs": [],
   "source": [
    "df = df.drop('Name',axis=1)"
   ]
  },
  {
   "cell_type": "code",
   "execution_count": 5,
   "id": "f77b404b",
   "metadata": {},
   "outputs": [],
   "source": [
    "# Import label encoder \n",
    "from sklearn import preprocessing \n",
    "  \n",
    "# label_encoder object knows  \n",
    "# how to understand word labels. \n",
    "label_encoder1 = preprocessing.LabelEncoder() \n",
    "  \n",
    "\n",
    "df['Ram']= label_encoder1.fit_transform(df['Ram'])\n"
   ]
  },
  {
   "cell_type": "code",
   "execution_count": 6,
   "id": "def4d7a2",
   "metadata": {},
   "outputs": [
    {
     "name": "stdout",
     "output_type": "stream",
     "text": [
      "Unnamed: 0 1370\n",
      "Rating 20\n",
      "Spec_score 50\n",
      "No_of_sim 9\n",
      "Ram 16\n",
      "Battery 89\n",
      "Display 89\n",
      "Camera 347\n",
      "External_Memory 85\n",
      "Android_version 23\n",
      "Price 449\n",
      "company 26\n",
      "Inbuilt_memory 10\n",
      "fast_charging 38\n",
      "Screen_resolution 141\n",
      "Processor 14\n",
      "Processor_name 276\n"
     ]
    }
   ],
   "source": [
    "\n",
    "columns = df.columns\n",
    "for i in columns:\n",
    "    print(i,df[i].nunique())"
   ]
  },
  {
   "cell_type": "code",
   "execution_count": 7,
   "id": "168903c1",
   "metadata": {},
   "outputs": [
    {
     "data": {
      "text/html": [
       "<div>\n",
       "<style scoped>\n",
       "    .dataframe tbody tr th:only-of-type {\n",
       "        vertical-align: middle;\n",
       "    }\n",
       "\n",
       "    .dataframe tbody tr th {\n",
       "        vertical-align: top;\n",
       "    }\n",
       "\n",
       "    .dataframe thead th {\n",
       "        text-align: right;\n",
       "    }\n",
       "</style>\n",
       "<table border=\"1\" class=\"dataframe\">\n",
       "  <thead>\n",
       "    <tr style=\"text-align: right;\">\n",
       "      <th></th>\n",
       "      <th>Unnamed: 0</th>\n",
       "      <th>Rating</th>\n",
       "      <th>Spec_score</th>\n",
       "      <th>No_of_sim</th>\n",
       "      <th>Ram</th>\n",
       "      <th>Battery</th>\n",
       "      <th>Display</th>\n",
       "      <th>Camera</th>\n",
       "      <th>External_Memory</th>\n",
       "      <th>Android_version</th>\n",
       "      <th>Price</th>\n",
       "      <th>company</th>\n",
       "      <th>Inbuilt_memory</th>\n",
       "      <th>fast_charging</th>\n",
       "      <th>Screen_resolution</th>\n",
       "      <th>Processor</th>\n",
       "      <th>Processor_name</th>\n",
       "    </tr>\n",
       "  </thead>\n",
       "  <tbody>\n",
       "    <tr>\n",
       "      <th>0</th>\n",
       "      <td>0</td>\n",
       "      <td>4.65</td>\n",
       "      <td>68</td>\n",
       "      <td>Dual Sim, 3G, 4G, 5G, VoLTE,</td>\n",
       "      <td>10</td>\n",
       "      <td>6000 mAh Battery</td>\n",
       "      <td>6.6 inches</td>\n",
       "      <td>50 MP + 2 MP Dual Rear &amp;amp; 13 MP Front Camera</td>\n",
       "      <td>Memory Card Supported, upto 1 TB</td>\n",
       "      <td>13</td>\n",
       "      <td>9,999</td>\n",
       "      <td>Samsung</td>\n",
       "      <td>128 GB inbuilt</td>\n",
       "      <td>25W Fast Charging</td>\n",
       "      <td>2408 x 1080 px Display with Water Drop Notch</td>\n",
       "      <td>Octa Core Processor</td>\n",
       "      <td>Exynos 1330</td>\n",
       "    </tr>\n",
       "    <tr>\n",
       "      <th>1</th>\n",
       "      <td>1</td>\n",
       "      <td>4.20</td>\n",
       "      <td>63</td>\n",
       "      <td>Dual Sim, 3G, 4G, VoLTE,</td>\n",
       "      <td>6</td>\n",
       "      <td>4000 mAh Battery</td>\n",
       "      <td>6.4 inches</td>\n",
       "      <td>13 MP + 5 MP + 2 MP Triple Rear &amp;amp; 8 MP Fro...</td>\n",
       "      <td>Memory Card Supported, upto 512 GB</td>\n",
       "      <td>10</td>\n",
       "      <td>9,990</td>\n",
       "      <td>Samsung</td>\n",
       "      <td>32 GB inbuilt</td>\n",
       "      <td>15W Fast Charging</td>\n",
       "      <td>720 x 1560 px Display with Punch Hole</td>\n",
       "      <td>1.8 GHz Processor</td>\n",
       "      <td>Octa Core</td>\n",
       "    </tr>\n",
       "    <tr>\n",
       "      <th>2</th>\n",
       "      <td>2</td>\n",
       "      <td>4.30</td>\n",
       "      <td>75</td>\n",
       "      <td>Dual Sim, 3G, 4G, VoLTE,</td>\n",
       "      <td>10</td>\n",
       "      <td>5000 mAh Battery</td>\n",
       "      <td>6.6 inches</td>\n",
       "      <td>50 MP Quad Rear &amp;amp; 8 MP Front Camera</td>\n",
       "      <td>Memory Card Supported, upto 1 TB</td>\n",
       "      <td>12</td>\n",
       "      <td>11,999</td>\n",
       "      <td>Samsung</td>\n",
       "      <td>64 GB inbuilt</td>\n",
       "      <td>25W Fast Charging</td>\n",
       "      <td>1080 x 2408 px Display with Water Drop Notch</td>\n",
       "      <td>2 GHz Processor</td>\n",
       "      <td>Octa Core</td>\n",
       "    </tr>\n",
       "    <tr>\n",
       "      <th>3</th>\n",
       "      <td>3</td>\n",
       "      <td>4.10</td>\n",
       "      <td>73</td>\n",
       "      <td>Dual Sim, 3G, 4G, VoLTE,</td>\n",
       "      <td>10</td>\n",
       "      <td>6000 mAh Battery</td>\n",
       "      <td>6.4 inches</td>\n",
       "      <td>48 MP Quad Rear &amp;amp; 13 MP Front Camera</td>\n",
       "      <td>Memory Card Supported, upto 1 TB</td>\n",
       "      <td>12</td>\n",
       "      <td>11,999</td>\n",
       "      <td>Samsung</td>\n",
       "      <td>64 GB inbuilt</td>\n",
       "      <td>NaN</td>\n",
       "      <td>720 x 1600 px</td>\n",
       "      <td>Octa Core</td>\n",
       "      <td>Helio G88</td>\n",
       "    </tr>\n",
       "    <tr>\n",
       "      <th>4</th>\n",
       "      <td>4</td>\n",
       "      <td>4.10</td>\n",
       "      <td>69</td>\n",
       "      <td>Dual Sim, 3G, 4G, VoLTE,</td>\n",
       "      <td>10</td>\n",
       "      <td>5000 mAh Battery</td>\n",
       "      <td>6.5 inches</td>\n",
       "      <td>13 MP + 2 MP + 2 MP Triple Rear &amp;amp; 5 MP Fro...</td>\n",
       "      <td>Memory Card Supported, upto 1 TB</td>\n",
       "      <td>11</td>\n",
       "      <td>11,999</td>\n",
       "      <td>Samsung</td>\n",
       "      <td>64 GB inbuilt</td>\n",
       "      <td>15W Fast Charging</td>\n",
       "      <td>720 x 1600 px Display with Water Drop Notch</td>\n",
       "      <td>Octa Core</td>\n",
       "      <td>Helio P35</td>\n",
       "    </tr>\n",
       "  </tbody>\n",
       "</table>\n",
       "</div>"
      ],
      "text/plain": [
       "   Unnamed: 0  Rating  Spec_score                      No_of_sim  Ram  \\\n",
       "0           0    4.65          68  Dual Sim, 3G, 4G, 5G, VoLTE,    10   \n",
       "1           1    4.20          63      Dual Sim, 3G, 4G, VoLTE,     6   \n",
       "2           2    4.30          75      Dual Sim, 3G, 4G, VoLTE,    10   \n",
       "3           3    4.10          73      Dual Sim, 3G, 4G, VoLTE,    10   \n",
       "4           4    4.10          69      Dual Sim, 3G, 4G, VoLTE,    10   \n",
       "\n",
       "             Battery     Display  \\\n",
       "0  6000 mAh Battery   6.6 inches   \n",
       "1  4000 mAh Battery   6.4 inches   \n",
       "2  5000 mAh Battery   6.6 inches   \n",
       "3   6000 mAh Battery  6.4 inches   \n",
       "4  5000 mAh Battery   6.5 inches   \n",
       "\n",
       "                                              Camera  \\\n",
       "0    50 MP + 2 MP Dual Rear &amp; 13 MP Front Camera   \n",
       "1  13 MP + 5 MP + 2 MP Triple Rear &amp; 8 MP Fro...   \n",
       "2            50 MP Quad Rear &amp; 8 MP Front Camera   \n",
       "3           48 MP Quad Rear &amp; 13 MP Front Camera   \n",
       "4  13 MP + 2 MP + 2 MP Triple Rear &amp; 5 MP Fro...   \n",
       "\n",
       "                      External_Memory Android_version   Price  company  \\\n",
       "0    Memory Card Supported, upto 1 TB              13   9,999  Samsung   \n",
       "1  Memory Card Supported, upto 512 GB              10   9,990  Samsung   \n",
       "2    Memory Card Supported, upto 1 TB              12  11,999  Samsung   \n",
       "3    Memory Card Supported, upto 1 TB              12  11,999  Samsung   \n",
       "4    Memory Card Supported, upto 1 TB              11  11,999  Samsung   \n",
       "\n",
       "    Inbuilt_memory       fast_charging  \\\n",
       "0   128 GB inbuilt   25W Fast Charging   \n",
       "1    32 GB inbuilt   15W Fast Charging   \n",
       "2    64 GB inbuilt   25W Fast Charging   \n",
       "3    64 GB inbuilt                 NaN   \n",
       "4    64 GB inbuilt   15W Fast Charging   \n",
       "\n",
       "                               Screen_resolution             Processor  \\\n",
       "0   2408 x 1080 px Display with Water Drop Notch   Octa Core Processor   \n",
       "1          720 x 1560 px Display with Punch Hole     1.8 GHz Processor   \n",
       "2   1080 x 2408 px Display with Water Drop Notch       2 GHz Processor   \n",
       "3                                  720 x 1600 px             Octa Core   \n",
       "4    720 x 1600 px Display with Water Drop Notch             Octa Core   \n",
       "\n",
       "  Processor_name  \n",
       "0    Exynos 1330  \n",
       "1      Octa Core  \n",
       "2      Octa Core  \n",
       "3      Helio G88  \n",
       "4      Helio P35  "
      ]
     },
     "execution_count": 7,
     "metadata": {},
     "output_type": "execute_result"
    }
   ],
   "source": [
    "df.head()"
   ]
  },
  {
   "cell_type": "code",
   "execution_count": 8,
   "id": "4098e8a1",
   "metadata": {},
   "outputs": [
    {
     "data": {
      "text/plain": [
       "Unnamed: 0             int64\n",
       "Rating               float64\n",
       "Spec_score             int64\n",
       "No_of_sim             object\n",
       "Ram                    int32\n",
       "Battery               object\n",
       "Display               object\n",
       "Camera                object\n",
       "External_Memory       object\n",
       "Android_version       object\n",
       "Price                 object\n",
       "company               object\n",
       "Inbuilt_memory        object\n",
       "fast_charging         object\n",
       "Screen_resolution     object\n",
       "Processor             object\n",
       "Processor_name        object\n",
       "dtype: object"
      ]
     },
     "execution_count": 8,
     "metadata": {},
     "output_type": "execute_result"
    }
   ],
   "source": [
    "df.dtypes"
   ]
  },
  {
   "cell_type": "code",
   "execution_count": 9,
   "id": "c50cb86e",
   "metadata": {},
   "outputs": [],
   "source": [
    "m,n = df.shape"
   ]
  },
  {
   "cell_type": "code",
   "execution_count": 10,
   "id": "0e810d5d",
   "metadata": {},
   "outputs": [],
   "source": [
    "for i in range(m):\n",
    "\n",
    "    \n",
    "    df['No_of_sim'][i]=list(df['No_of_sim'][i].split(\",\"))"
   ]
  },
  {
   "cell_type": "code",
   "execution_count": 11,
   "id": "82600cba",
   "metadata": {},
   "outputs": [
    {
     "data": {
      "text/plain": [
       "0              [Dual Sim,  3G,  4G,  5G,  VoLTE,  ]\n",
       "1                   [Dual Sim,  3G,  4G,  VoLTE,  ]\n",
       "2                   [Dual Sim,  3G,  4G,  VoLTE,  ]\n",
       "3                   [Dual Sim,  3G,  4G,  VoLTE,  ]\n",
       "4                   [Dual Sim,  3G,  4G,  VoLTE,  ]\n",
       "                           ...                     \n",
       "1365           [Dual Sim,  3G,  4G,  5G,  VoLTE,  ]\n",
       "1366                [Dual Sim,  3G,  4G,  VoLTE,  ]\n",
       "1367           [Dual Sim,  3G,  4G,  5G,  VoLTE,  ]\n",
       "1368           [Dual Sim,  3G,  4G,  5G,  VoLTE,  ]\n",
       "1369    [Dual Sim,  3G,  4G,  5G,  VoLTE,  Vo5G,  ]\n",
       "Name: No_of_sim, Length: 1370, dtype: object"
      ]
     },
     "execution_count": 11,
     "metadata": {},
     "output_type": "execute_result"
    }
   ],
   "source": [
    "df['No_of_sim']"
   ]
  },
  {
   "cell_type": "code",
   "execution_count": 12,
   "id": "b1a887b4",
   "metadata": {},
   "outputs": [],
   "source": [
    "sims =['Dual Sim', ' 3G', ' 4G', ' 5G', ' VoLTE',]"
   ]
  },
  {
   "cell_type": "code",
   "execution_count": 13,
   "id": "ec1f8326",
   "metadata": {},
   "outputs": [],
   "source": [
    "\n",
    "for j in range(0,len(sims)):\n",
    "    df[sims[j]] = 0"
   ]
  },
  {
   "cell_type": "code",
   "execution_count": 14,
   "id": "e6d00f40",
   "metadata": {},
   "outputs": [
    {
     "data": {
      "text/html": [
       "<div>\n",
       "<style scoped>\n",
       "    .dataframe tbody tr th:only-of-type {\n",
       "        vertical-align: middle;\n",
       "    }\n",
       "\n",
       "    .dataframe tbody tr th {\n",
       "        vertical-align: top;\n",
       "    }\n",
       "\n",
       "    .dataframe thead th {\n",
       "        text-align: right;\n",
       "    }\n",
       "</style>\n",
       "<table border=\"1\" class=\"dataframe\">\n",
       "  <thead>\n",
       "    <tr style=\"text-align: right;\">\n",
       "      <th></th>\n",
       "      <th>Unnamed: 0</th>\n",
       "      <th>Rating</th>\n",
       "      <th>Spec_score</th>\n",
       "      <th>No_of_sim</th>\n",
       "      <th>Ram</th>\n",
       "      <th>Battery</th>\n",
       "      <th>Display</th>\n",
       "      <th>Camera</th>\n",
       "      <th>External_Memory</th>\n",
       "      <th>Android_version</th>\n",
       "      <th>...</th>\n",
       "      <th>Inbuilt_memory</th>\n",
       "      <th>fast_charging</th>\n",
       "      <th>Screen_resolution</th>\n",
       "      <th>Processor</th>\n",
       "      <th>Processor_name</th>\n",
       "      <th>Dual Sim</th>\n",
       "      <th>3G</th>\n",
       "      <th>4G</th>\n",
       "      <th>5G</th>\n",
       "      <th>VoLTE</th>\n",
       "    </tr>\n",
       "  </thead>\n",
       "  <tbody>\n",
       "    <tr>\n",
       "      <th>0</th>\n",
       "      <td>0</td>\n",
       "      <td>4.65</td>\n",
       "      <td>68</td>\n",
       "      <td>[Dual Sim,  3G,  4G,  5G,  VoLTE,  ]</td>\n",
       "      <td>10</td>\n",
       "      <td>6000 mAh Battery</td>\n",
       "      <td>6.6 inches</td>\n",
       "      <td>50 MP + 2 MP Dual Rear &amp;amp; 13 MP Front Camera</td>\n",
       "      <td>Memory Card Supported, upto 1 TB</td>\n",
       "      <td>13</td>\n",
       "      <td>...</td>\n",
       "      <td>128 GB inbuilt</td>\n",
       "      <td>25W Fast Charging</td>\n",
       "      <td>2408 x 1080 px Display with Water Drop Notch</td>\n",
       "      <td>Octa Core Processor</td>\n",
       "      <td>Exynos 1330</td>\n",
       "      <td>0</td>\n",
       "      <td>0</td>\n",
       "      <td>0</td>\n",
       "      <td>0</td>\n",
       "      <td>0</td>\n",
       "    </tr>\n",
       "    <tr>\n",
       "      <th>1</th>\n",
       "      <td>1</td>\n",
       "      <td>4.20</td>\n",
       "      <td>63</td>\n",
       "      <td>[Dual Sim,  3G,  4G,  VoLTE,  ]</td>\n",
       "      <td>6</td>\n",
       "      <td>4000 mAh Battery</td>\n",
       "      <td>6.4 inches</td>\n",
       "      <td>13 MP + 5 MP + 2 MP Triple Rear &amp;amp; 8 MP Fro...</td>\n",
       "      <td>Memory Card Supported, upto 512 GB</td>\n",
       "      <td>10</td>\n",
       "      <td>...</td>\n",
       "      <td>32 GB inbuilt</td>\n",
       "      <td>15W Fast Charging</td>\n",
       "      <td>720 x 1560 px Display with Punch Hole</td>\n",
       "      <td>1.8 GHz Processor</td>\n",
       "      <td>Octa Core</td>\n",
       "      <td>0</td>\n",
       "      <td>0</td>\n",
       "      <td>0</td>\n",
       "      <td>0</td>\n",
       "      <td>0</td>\n",
       "    </tr>\n",
       "    <tr>\n",
       "      <th>2</th>\n",
       "      <td>2</td>\n",
       "      <td>4.30</td>\n",
       "      <td>75</td>\n",
       "      <td>[Dual Sim,  3G,  4G,  VoLTE,  ]</td>\n",
       "      <td>10</td>\n",
       "      <td>5000 mAh Battery</td>\n",
       "      <td>6.6 inches</td>\n",
       "      <td>50 MP Quad Rear &amp;amp; 8 MP Front Camera</td>\n",
       "      <td>Memory Card Supported, upto 1 TB</td>\n",
       "      <td>12</td>\n",
       "      <td>...</td>\n",
       "      <td>64 GB inbuilt</td>\n",
       "      <td>25W Fast Charging</td>\n",
       "      <td>1080 x 2408 px Display with Water Drop Notch</td>\n",
       "      <td>2 GHz Processor</td>\n",
       "      <td>Octa Core</td>\n",
       "      <td>0</td>\n",
       "      <td>0</td>\n",
       "      <td>0</td>\n",
       "      <td>0</td>\n",
       "      <td>0</td>\n",
       "    </tr>\n",
       "    <tr>\n",
       "      <th>3</th>\n",
       "      <td>3</td>\n",
       "      <td>4.10</td>\n",
       "      <td>73</td>\n",
       "      <td>[Dual Sim,  3G,  4G,  VoLTE,  ]</td>\n",
       "      <td>10</td>\n",
       "      <td>6000 mAh Battery</td>\n",
       "      <td>6.4 inches</td>\n",
       "      <td>48 MP Quad Rear &amp;amp; 13 MP Front Camera</td>\n",
       "      <td>Memory Card Supported, upto 1 TB</td>\n",
       "      <td>12</td>\n",
       "      <td>...</td>\n",
       "      <td>64 GB inbuilt</td>\n",
       "      <td>NaN</td>\n",
       "      <td>720 x 1600 px</td>\n",
       "      <td>Octa Core</td>\n",
       "      <td>Helio G88</td>\n",
       "      <td>0</td>\n",
       "      <td>0</td>\n",
       "      <td>0</td>\n",
       "      <td>0</td>\n",
       "      <td>0</td>\n",
       "    </tr>\n",
       "    <tr>\n",
       "      <th>4</th>\n",
       "      <td>4</td>\n",
       "      <td>4.10</td>\n",
       "      <td>69</td>\n",
       "      <td>[Dual Sim,  3G,  4G,  VoLTE,  ]</td>\n",
       "      <td>10</td>\n",
       "      <td>5000 mAh Battery</td>\n",
       "      <td>6.5 inches</td>\n",
       "      <td>13 MP + 2 MP + 2 MP Triple Rear &amp;amp; 5 MP Fro...</td>\n",
       "      <td>Memory Card Supported, upto 1 TB</td>\n",
       "      <td>11</td>\n",
       "      <td>...</td>\n",
       "      <td>64 GB inbuilt</td>\n",
       "      <td>15W Fast Charging</td>\n",
       "      <td>720 x 1600 px Display with Water Drop Notch</td>\n",
       "      <td>Octa Core</td>\n",
       "      <td>Helio P35</td>\n",
       "      <td>0</td>\n",
       "      <td>0</td>\n",
       "      <td>0</td>\n",
       "      <td>0</td>\n",
       "      <td>0</td>\n",
       "    </tr>\n",
       "  </tbody>\n",
       "</table>\n",
       "<p>5 rows × 22 columns</p>\n",
       "</div>"
      ],
      "text/plain": [
       "   Unnamed: 0  Rating  Spec_score                             No_of_sim  Ram  \\\n",
       "0           0    4.65          68  [Dual Sim,  3G,  4G,  5G,  VoLTE,  ]   10   \n",
       "1           1    4.20          63       [Dual Sim,  3G,  4G,  VoLTE,  ]    6   \n",
       "2           2    4.30          75       [Dual Sim,  3G,  4G,  VoLTE,  ]   10   \n",
       "3           3    4.10          73       [Dual Sim,  3G,  4G,  VoLTE,  ]   10   \n",
       "4           4    4.10          69       [Dual Sim,  3G,  4G,  VoLTE,  ]   10   \n",
       "\n",
       "             Battery     Display  \\\n",
       "0  6000 mAh Battery   6.6 inches   \n",
       "1  4000 mAh Battery   6.4 inches   \n",
       "2  5000 mAh Battery   6.6 inches   \n",
       "3   6000 mAh Battery  6.4 inches   \n",
       "4  5000 mAh Battery   6.5 inches   \n",
       "\n",
       "                                              Camera  \\\n",
       "0    50 MP + 2 MP Dual Rear &amp; 13 MP Front Camera   \n",
       "1  13 MP + 5 MP + 2 MP Triple Rear &amp; 8 MP Fro...   \n",
       "2            50 MP Quad Rear &amp; 8 MP Front Camera   \n",
       "3           48 MP Quad Rear &amp; 13 MP Front Camera   \n",
       "4  13 MP + 2 MP + 2 MP Triple Rear &amp; 5 MP Fro...   \n",
       "\n",
       "                      External_Memory Android_version  ...   Inbuilt_memory  \\\n",
       "0    Memory Card Supported, upto 1 TB              13  ...   128 GB inbuilt   \n",
       "1  Memory Card Supported, upto 512 GB              10  ...    32 GB inbuilt   \n",
       "2    Memory Card Supported, upto 1 TB              12  ...    64 GB inbuilt   \n",
       "3    Memory Card Supported, upto 1 TB              12  ...    64 GB inbuilt   \n",
       "4    Memory Card Supported, upto 1 TB              11  ...    64 GB inbuilt   \n",
       "\n",
       "        fast_charging                              Screen_resolution  \\\n",
       "0   25W Fast Charging   2408 x 1080 px Display with Water Drop Notch   \n",
       "1   15W Fast Charging          720 x 1560 px Display with Punch Hole   \n",
       "2   25W Fast Charging   1080 x 2408 px Display with Water Drop Notch   \n",
       "3                 NaN                                  720 x 1600 px   \n",
       "4   15W Fast Charging    720 x 1600 px Display with Water Drop Notch   \n",
       "\n",
       "              Processor Processor_name Dual Sim  3G   4G   5G   VoLTE  \n",
       "0   Octa Core Processor    Exynos 1330        0   0    0    0       0  \n",
       "1     1.8 GHz Processor      Octa Core        0   0    0    0       0  \n",
       "2       2 GHz Processor      Octa Core        0   0    0    0       0  \n",
       "3             Octa Core      Helio G88        0   0    0    0       0  \n",
       "4             Octa Core      Helio P35        0   0    0    0       0  \n",
       "\n",
       "[5 rows x 22 columns]"
      ]
     },
     "execution_count": 14,
     "metadata": {},
     "output_type": "execute_result"
    }
   ],
   "source": [
    "df.head()"
   ]
  },
  {
   "cell_type": "code",
   "execution_count": 15,
   "id": "c1ac700f",
   "metadata": {},
   "outputs": [],
   "source": [
    "for i in range(0,m):\n",
    "    for j in range(0,len(sims)):\n",
    "        if sims[j] in df['No_of_sim'][i]:\n",
    "            df[sims[j]][i] = 1\n",
    "        else:\n",
    "            df[sims[j]][i] = 0\n",
    "            "
   ]
  },
  {
   "cell_type": "code",
   "execution_count": 16,
   "id": "e2d2c2ff",
   "metadata": {},
   "outputs": [
    {
     "data": {
      "text/html": [
       "<div>\n",
       "<style scoped>\n",
       "    .dataframe tbody tr th:only-of-type {\n",
       "        vertical-align: middle;\n",
       "    }\n",
       "\n",
       "    .dataframe tbody tr th {\n",
       "        vertical-align: top;\n",
       "    }\n",
       "\n",
       "    .dataframe thead th {\n",
       "        text-align: right;\n",
       "    }\n",
       "</style>\n",
       "<table border=\"1\" class=\"dataframe\">\n",
       "  <thead>\n",
       "    <tr style=\"text-align: right;\">\n",
       "      <th></th>\n",
       "      <th>Unnamed: 0</th>\n",
       "      <th>Rating</th>\n",
       "      <th>Spec_score</th>\n",
       "      <th>No_of_sim</th>\n",
       "      <th>Ram</th>\n",
       "      <th>Battery</th>\n",
       "      <th>Display</th>\n",
       "      <th>Camera</th>\n",
       "      <th>External_Memory</th>\n",
       "      <th>Android_version</th>\n",
       "      <th>...</th>\n",
       "      <th>Inbuilt_memory</th>\n",
       "      <th>fast_charging</th>\n",
       "      <th>Screen_resolution</th>\n",
       "      <th>Processor</th>\n",
       "      <th>Processor_name</th>\n",
       "      <th>Dual Sim</th>\n",
       "      <th>3G</th>\n",
       "      <th>4G</th>\n",
       "      <th>5G</th>\n",
       "      <th>VoLTE</th>\n",
       "    </tr>\n",
       "  </thead>\n",
       "  <tbody>\n",
       "    <tr>\n",
       "      <th>0</th>\n",
       "      <td>0</td>\n",
       "      <td>4.65</td>\n",
       "      <td>68</td>\n",
       "      <td>[Dual Sim,  3G,  4G,  5G,  VoLTE,  ]</td>\n",
       "      <td>10</td>\n",
       "      <td>6000 mAh Battery</td>\n",
       "      <td>6.6 inches</td>\n",
       "      <td>50 MP + 2 MP Dual Rear &amp;amp; 13 MP Front Camera</td>\n",
       "      <td>Memory Card Supported, upto 1 TB</td>\n",
       "      <td>13</td>\n",
       "      <td>...</td>\n",
       "      <td>128 GB inbuilt</td>\n",
       "      <td>25W Fast Charging</td>\n",
       "      <td>2408 x 1080 px Display with Water Drop Notch</td>\n",
       "      <td>Octa Core Processor</td>\n",
       "      <td>Exynos 1330</td>\n",
       "      <td>1</td>\n",
       "      <td>1</td>\n",
       "      <td>1</td>\n",
       "      <td>1</td>\n",
       "      <td>1</td>\n",
       "    </tr>\n",
       "    <tr>\n",
       "      <th>1</th>\n",
       "      <td>1</td>\n",
       "      <td>4.20</td>\n",
       "      <td>63</td>\n",
       "      <td>[Dual Sim,  3G,  4G,  VoLTE,  ]</td>\n",
       "      <td>6</td>\n",
       "      <td>4000 mAh Battery</td>\n",
       "      <td>6.4 inches</td>\n",
       "      <td>13 MP + 5 MP + 2 MP Triple Rear &amp;amp; 8 MP Fro...</td>\n",
       "      <td>Memory Card Supported, upto 512 GB</td>\n",
       "      <td>10</td>\n",
       "      <td>...</td>\n",
       "      <td>32 GB inbuilt</td>\n",
       "      <td>15W Fast Charging</td>\n",
       "      <td>720 x 1560 px Display with Punch Hole</td>\n",
       "      <td>1.8 GHz Processor</td>\n",
       "      <td>Octa Core</td>\n",
       "      <td>1</td>\n",
       "      <td>1</td>\n",
       "      <td>1</td>\n",
       "      <td>0</td>\n",
       "      <td>1</td>\n",
       "    </tr>\n",
       "    <tr>\n",
       "      <th>2</th>\n",
       "      <td>2</td>\n",
       "      <td>4.30</td>\n",
       "      <td>75</td>\n",
       "      <td>[Dual Sim,  3G,  4G,  VoLTE,  ]</td>\n",
       "      <td>10</td>\n",
       "      <td>5000 mAh Battery</td>\n",
       "      <td>6.6 inches</td>\n",
       "      <td>50 MP Quad Rear &amp;amp; 8 MP Front Camera</td>\n",
       "      <td>Memory Card Supported, upto 1 TB</td>\n",
       "      <td>12</td>\n",
       "      <td>...</td>\n",
       "      <td>64 GB inbuilt</td>\n",
       "      <td>25W Fast Charging</td>\n",
       "      <td>1080 x 2408 px Display with Water Drop Notch</td>\n",
       "      <td>2 GHz Processor</td>\n",
       "      <td>Octa Core</td>\n",
       "      <td>1</td>\n",
       "      <td>1</td>\n",
       "      <td>1</td>\n",
       "      <td>0</td>\n",
       "      <td>1</td>\n",
       "    </tr>\n",
       "    <tr>\n",
       "      <th>3</th>\n",
       "      <td>3</td>\n",
       "      <td>4.10</td>\n",
       "      <td>73</td>\n",
       "      <td>[Dual Sim,  3G,  4G,  VoLTE,  ]</td>\n",
       "      <td>10</td>\n",
       "      <td>6000 mAh Battery</td>\n",
       "      <td>6.4 inches</td>\n",
       "      <td>48 MP Quad Rear &amp;amp; 13 MP Front Camera</td>\n",
       "      <td>Memory Card Supported, upto 1 TB</td>\n",
       "      <td>12</td>\n",
       "      <td>...</td>\n",
       "      <td>64 GB inbuilt</td>\n",
       "      <td>NaN</td>\n",
       "      <td>720 x 1600 px</td>\n",
       "      <td>Octa Core</td>\n",
       "      <td>Helio G88</td>\n",
       "      <td>1</td>\n",
       "      <td>1</td>\n",
       "      <td>1</td>\n",
       "      <td>0</td>\n",
       "      <td>1</td>\n",
       "    </tr>\n",
       "    <tr>\n",
       "      <th>4</th>\n",
       "      <td>4</td>\n",
       "      <td>4.10</td>\n",
       "      <td>69</td>\n",
       "      <td>[Dual Sim,  3G,  4G,  VoLTE,  ]</td>\n",
       "      <td>10</td>\n",
       "      <td>5000 mAh Battery</td>\n",
       "      <td>6.5 inches</td>\n",
       "      <td>13 MP + 2 MP + 2 MP Triple Rear &amp;amp; 5 MP Fro...</td>\n",
       "      <td>Memory Card Supported, upto 1 TB</td>\n",
       "      <td>11</td>\n",
       "      <td>...</td>\n",
       "      <td>64 GB inbuilt</td>\n",
       "      <td>15W Fast Charging</td>\n",
       "      <td>720 x 1600 px Display with Water Drop Notch</td>\n",
       "      <td>Octa Core</td>\n",
       "      <td>Helio P35</td>\n",
       "      <td>1</td>\n",
       "      <td>1</td>\n",
       "      <td>1</td>\n",
       "      <td>0</td>\n",
       "      <td>1</td>\n",
       "    </tr>\n",
       "  </tbody>\n",
       "</table>\n",
       "<p>5 rows × 22 columns</p>\n",
       "</div>"
      ],
      "text/plain": [
       "   Unnamed: 0  Rating  Spec_score                             No_of_sim  Ram  \\\n",
       "0           0    4.65          68  [Dual Sim,  3G,  4G,  5G,  VoLTE,  ]   10   \n",
       "1           1    4.20          63       [Dual Sim,  3G,  4G,  VoLTE,  ]    6   \n",
       "2           2    4.30          75       [Dual Sim,  3G,  4G,  VoLTE,  ]   10   \n",
       "3           3    4.10          73       [Dual Sim,  3G,  4G,  VoLTE,  ]   10   \n",
       "4           4    4.10          69       [Dual Sim,  3G,  4G,  VoLTE,  ]   10   \n",
       "\n",
       "             Battery     Display  \\\n",
       "0  6000 mAh Battery   6.6 inches   \n",
       "1  4000 mAh Battery   6.4 inches   \n",
       "2  5000 mAh Battery   6.6 inches   \n",
       "3   6000 mAh Battery  6.4 inches   \n",
       "4  5000 mAh Battery   6.5 inches   \n",
       "\n",
       "                                              Camera  \\\n",
       "0    50 MP + 2 MP Dual Rear &amp; 13 MP Front Camera   \n",
       "1  13 MP + 5 MP + 2 MP Triple Rear &amp; 8 MP Fro...   \n",
       "2            50 MP Quad Rear &amp; 8 MP Front Camera   \n",
       "3           48 MP Quad Rear &amp; 13 MP Front Camera   \n",
       "4  13 MP + 2 MP + 2 MP Triple Rear &amp; 5 MP Fro...   \n",
       "\n",
       "                      External_Memory Android_version  ...   Inbuilt_memory  \\\n",
       "0    Memory Card Supported, upto 1 TB              13  ...   128 GB inbuilt   \n",
       "1  Memory Card Supported, upto 512 GB              10  ...    32 GB inbuilt   \n",
       "2    Memory Card Supported, upto 1 TB              12  ...    64 GB inbuilt   \n",
       "3    Memory Card Supported, upto 1 TB              12  ...    64 GB inbuilt   \n",
       "4    Memory Card Supported, upto 1 TB              11  ...    64 GB inbuilt   \n",
       "\n",
       "        fast_charging                              Screen_resolution  \\\n",
       "0   25W Fast Charging   2408 x 1080 px Display with Water Drop Notch   \n",
       "1   15W Fast Charging          720 x 1560 px Display with Punch Hole   \n",
       "2   25W Fast Charging   1080 x 2408 px Display with Water Drop Notch   \n",
       "3                 NaN                                  720 x 1600 px   \n",
       "4   15W Fast Charging    720 x 1600 px Display with Water Drop Notch   \n",
       "\n",
       "              Processor Processor_name Dual Sim  3G   4G   5G   VoLTE  \n",
       "0   Octa Core Processor    Exynos 1330        1   1    1    1       1  \n",
       "1     1.8 GHz Processor      Octa Core        1   1    1    0       1  \n",
       "2       2 GHz Processor      Octa Core        1   1    1    0       1  \n",
       "3             Octa Core      Helio G88        1   1    1    0       1  \n",
       "4             Octa Core      Helio P35        1   1    1    0       1  \n",
       "\n",
       "[5 rows x 22 columns]"
      ]
     },
     "execution_count": 16,
     "metadata": {},
     "output_type": "execute_result"
    }
   ],
   "source": [
    "df.head()"
   ]
  },
  {
   "cell_type": "code",
   "execution_count": 17,
   "id": "cf254679",
   "metadata": {},
   "outputs": [
    {
     "data": {
      "text/plain": [
       "Index(['Unnamed: 0', 'Rating', 'Spec_score', 'No_of_sim', 'Ram', 'Battery',\n",
       "       'Display', 'Camera', 'External_Memory', 'Android_version', 'Price',\n",
       "       'company', 'Inbuilt_memory', 'fast_charging', 'Screen_resolution',\n",
       "       'Processor', 'Processor_name'],\n",
       "      dtype='object')"
      ]
     },
     "execution_count": 17,
     "metadata": {},
     "output_type": "execute_result"
    }
   ],
   "source": [
    "columns"
   ]
  },
  {
   "cell_type": "code",
   "execution_count": 18,
   "id": "d9bb201f",
   "metadata": {},
   "outputs": [],
   "source": [
    "df = df.drop('No_of_sim',axis=1)"
   ]
  },
  {
   "cell_type": "code",
   "execution_count": 19,
   "id": "c39a5fd3",
   "metadata": {},
   "outputs": [],
   "source": [
    "columns = df.columns"
   ]
  },
  {
   "cell_type": "code",
   "execution_count": null,
   "id": "5b6ca80c",
   "metadata": {},
   "outputs": [],
   "source": []
  },
  {
   "cell_type": "code",
   "execution_count": 20,
   "id": "19dd2d76",
   "metadata": {},
   "outputs": [
    {
     "name": "stdout",
     "output_type": "stream",
     "text": [
      "Unnamed: 0 1370\n",
      "Rating 20\n",
      "Spec_score 50\n",
      "Ram 16\n",
      "Battery 89\n",
      "Display 89\n",
      "Camera 347\n",
      "External_Memory 85\n",
      "Android_version 23\n",
      "Price 449\n",
      "company 26\n",
      "Inbuilt_memory 10\n",
      "fast_charging 38\n",
      "Screen_resolution 141\n",
      "Processor 14\n",
      "Processor_name 276\n",
      "Dual Sim 2\n",
      " 3G 2\n",
      " 4G 2\n",
      " 5G 2\n",
      " VoLTE 2\n"
     ]
    }
   ],
   "source": [
    "for i in columns:\n",
    "    print(i,df[i].nunique())"
   ]
  },
  {
   "cell_type": "code",
   "execution_count": 21,
   "id": "701627b0",
   "metadata": {},
   "outputs": [
    {
     "data": {
      "text/html": [
       "<div>\n",
       "<style scoped>\n",
       "    .dataframe tbody tr th:only-of-type {\n",
       "        vertical-align: middle;\n",
       "    }\n",
       "\n",
       "    .dataframe tbody tr th {\n",
       "        vertical-align: top;\n",
       "    }\n",
       "\n",
       "    .dataframe thead th {\n",
       "        text-align: right;\n",
       "    }\n",
       "</style>\n",
       "<table border=\"1\" class=\"dataframe\">\n",
       "  <thead>\n",
       "    <tr style=\"text-align: right;\">\n",
       "      <th></th>\n",
       "      <th>Unnamed: 0</th>\n",
       "      <th>Rating</th>\n",
       "      <th>Spec_score</th>\n",
       "      <th>Ram</th>\n",
       "      <th>Battery</th>\n",
       "      <th>Display</th>\n",
       "      <th>Camera</th>\n",
       "      <th>External_Memory</th>\n",
       "      <th>Android_version</th>\n",
       "      <th>Price</th>\n",
       "      <th>...</th>\n",
       "      <th>Inbuilt_memory</th>\n",
       "      <th>fast_charging</th>\n",
       "      <th>Screen_resolution</th>\n",
       "      <th>Processor</th>\n",
       "      <th>Processor_name</th>\n",
       "      <th>Dual Sim</th>\n",
       "      <th>3G</th>\n",
       "      <th>4G</th>\n",
       "      <th>5G</th>\n",
       "      <th>VoLTE</th>\n",
       "    </tr>\n",
       "  </thead>\n",
       "  <tbody>\n",
       "    <tr>\n",
       "      <th>0</th>\n",
       "      <td>0</td>\n",
       "      <td>4.65</td>\n",
       "      <td>68</td>\n",
       "      <td>10</td>\n",
       "      <td>6000 mAh Battery</td>\n",
       "      <td>6.6 inches</td>\n",
       "      <td>50 MP + 2 MP Dual Rear &amp;amp; 13 MP Front Camera</td>\n",
       "      <td>Memory Card Supported, upto 1 TB</td>\n",
       "      <td>13</td>\n",
       "      <td>9,999</td>\n",
       "      <td>...</td>\n",
       "      <td>128 GB inbuilt</td>\n",
       "      <td>25W Fast Charging</td>\n",
       "      <td>2408 x 1080 px Display with Water Drop Notch</td>\n",
       "      <td>Octa Core Processor</td>\n",
       "      <td>Exynos 1330</td>\n",
       "      <td>1</td>\n",
       "      <td>1</td>\n",
       "      <td>1</td>\n",
       "      <td>1</td>\n",
       "      <td>1</td>\n",
       "    </tr>\n",
       "    <tr>\n",
       "      <th>1</th>\n",
       "      <td>1</td>\n",
       "      <td>4.20</td>\n",
       "      <td>63</td>\n",
       "      <td>6</td>\n",
       "      <td>4000 mAh Battery</td>\n",
       "      <td>6.4 inches</td>\n",
       "      <td>13 MP + 5 MP + 2 MP Triple Rear &amp;amp; 8 MP Fro...</td>\n",
       "      <td>Memory Card Supported, upto 512 GB</td>\n",
       "      <td>10</td>\n",
       "      <td>9,990</td>\n",
       "      <td>...</td>\n",
       "      <td>32 GB inbuilt</td>\n",
       "      <td>15W Fast Charging</td>\n",
       "      <td>720 x 1560 px Display with Punch Hole</td>\n",
       "      <td>1.8 GHz Processor</td>\n",
       "      <td>Octa Core</td>\n",
       "      <td>1</td>\n",
       "      <td>1</td>\n",
       "      <td>1</td>\n",
       "      <td>0</td>\n",
       "      <td>1</td>\n",
       "    </tr>\n",
       "    <tr>\n",
       "      <th>2</th>\n",
       "      <td>2</td>\n",
       "      <td>4.30</td>\n",
       "      <td>75</td>\n",
       "      <td>10</td>\n",
       "      <td>5000 mAh Battery</td>\n",
       "      <td>6.6 inches</td>\n",
       "      <td>50 MP Quad Rear &amp;amp; 8 MP Front Camera</td>\n",
       "      <td>Memory Card Supported, upto 1 TB</td>\n",
       "      <td>12</td>\n",
       "      <td>11,999</td>\n",
       "      <td>...</td>\n",
       "      <td>64 GB inbuilt</td>\n",
       "      <td>25W Fast Charging</td>\n",
       "      <td>1080 x 2408 px Display with Water Drop Notch</td>\n",
       "      <td>2 GHz Processor</td>\n",
       "      <td>Octa Core</td>\n",
       "      <td>1</td>\n",
       "      <td>1</td>\n",
       "      <td>1</td>\n",
       "      <td>0</td>\n",
       "      <td>1</td>\n",
       "    </tr>\n",
       "    <tr>\n",
       "      <th>3</th>\n",
       "      <td>3</td>\n",
       "      <td>4.10</td>\n",
       "      <td>73</td>\n",
       "      <td>10</td>\n",
       "      <td>6000 mAh Battery</td>\n",
       "      <td>6.4 inches</td>\n",
       "      <td>48 MP Quad Rear &amp;amp; 13 MP Front Camera</td>\n",
       "      <td>Memory Card Supported, upto 1 TB</td>\n",
       "      <td>12</td>\n",
       "      <td>11,999</td>\n",
       "      <td>...</td>\n",
       "      <td>64 GB inbuilt</td>\n",
       "      <td>NaN</td>\n",
       "      <td>720 x 1600 px</td>\n",
       "      <td>Octa Core</td>\n",
       "      <td>Helio G88</td>\n",
       "      <td>1</td>\n",
       "      <td>1</td>\n",
       "      <td>1</td>\n",
       "      <td>0</td>\n",
       "      <td>1</td>\n",
       "    </tr>\n",
       "    <tr>\n",
       "      <th>4</th>\n",
       "      <td>4</td>\n",
       "      <td>4.10</td>\n",
       "      <td>69</td>\n",
       "      <td>10</td>\n",
       "      <td>5000 mAh Battery</td>\n",
       "      <td>6.5 inches</td>\n",
       "      <td>13 MP + 2 MP + 2 MP Triple Rear &amp;amp; 5 MP Fro...</td>\n",
       "      <td>Memory Card Supported, upto 1 TB</td>\n",
       "      <td>11</td>\n",
       "      <td>11,999</td>\n",
       "      <td>...</td>\n",
       "      <td>64 GB inbuilt</td>\n",
       "      <td>15W Fast Charging</td>\n",
       "      <td>720 x 1600 px Display with Water Drop Notch</td>\n",
       "      <td>Octa Core</td>\n",
       "      <td>Helio P35</td>\n",
       "      <td>1</td>\n",
       "      <td>1</td>\n",
       "      <td>1</td>\n",
       "      <td>0</td>\n",
       "      <td>1</td>\n",
       "    </tr>\n",
       "  </tbody>\n",
       "</table>\n",
       "<p>5 rows × 21 columns</p>\n",
       "</div>"
      ],
      "text/plain": [
       "   Unnamed: 0  Rating  Spec_score  Ram            Battery     Display  \\\n",
       "0           0    4.65          68   10  6000 mAh Battery   6.6 inches   \n",
       "1           1    4.20          63    6  4000 mAh Battery   6.4 inches   \n",
       "2           2    4.30          75   10  5000 mAh Battery   6.6 inches   \n",
       "3           3    4.10          73   10   6000 mAh Battery  6.4 inches   \n",
       "4           4    4.10          69   10  5000 mAh Battery   6.5 inches   \n",
       "\n",
       "                                              Camera  \\\n",
       "0    50 MP + 2 MP Dual Rear &amp; 13 MP Front Camera   \n",
       "1  13 MP + 5 MP + 2 MP Triple Rear &amp; 8 MP Fro...   \n",
       "2            50 MP Quad Rear &amp; 8 MP Front Camera   \n",
       "3           48 MP Quad Rear &amp; 13 MP Front Camera   \n",
       "4  13 MP + 2 MP + 2 MP Triple Rear &amp; 5 MP Fro...   \n",
       "\n",
       "                      External_Memory Android_version   Price  ...  \\\n",
       "0    Memory Card Supported, upto 1 TB              13   9,999  ...   \n",
       "1  Memory Card Supported, upto 512 GB              10   9,990  ...   \n",
       "2    Memory Card Supported, upto 1 TB              12  11,999  ...   \n",
       "3    Memory Card Supported, upto 1 TB              12  11,999  ...   \n",
       "4    Memory Card Supported, upto 1 TB              11  11,999  ...   \n",
       "\n",
       "    Inbuilt_memory       fast_charging  \\\n",
       "0   128 GB inbuilt   25W Fast Charging   \n",
       "1    32 GB inbuilt   15W Fast Charging   \n",
       "2    64 GB inbuilt   25W Fast Charging   \n",
       "3    64 GB inbuilt                 NaN   \n",
       "4    64 GB inbuilt   15W Fast Charging   \n",
       "\n",
       "                               Screen_resolution             Processor  \\\n",
       "0   2408 x 1080 px Display with Water Drop Notch   Octa Core Processor   \n",
       "1          720 x 1560 px Display with Punch Hole     1.8 GHz Processor   \n",
       "2   1080 x 2408 px Display with Water Drop Notch       2 GHz Processor   \n",
       "3                                  720 x 1600 px             Octa Core   \n",
       "4    720 x 1600 px Display with Water Drop Notch             Octa Core   \n",
       "\n",
       "  Processor_name Dual Sim   3G   4G   5G   VoLTE  \n",
       "0    Exynos 1330        1    1    1    1       1  \n",
       "1      Octa Core        1    1    1    0       1  \n",
       "2      Octa Core        1    1    1    0       1  \n",
       "3      Helio G88        1    1    1    0       1  \n",
       "4      Helio P35        1    1    1    0       1  \n",
       "\n",
       "[5 rows x 21 columns]"
      ]
     },
     "execution_count": 21,
     "metadata": {},
     "output_type": "execute_result"
    }
   ],
   "source": [
    "df.head()"
   ]
  },
  {
   "cell_type": "code",
   "execution_count": 22,
   "id": "174ab1ef",
   "metadata": {},
   "outputs": [],
   "source": [
    "df['Inbuilt_memory']= label_encoder1.fit_transform(df['Inbuilt_memory'])"
   ]
  },
  {
   "cell_type": "code",
   "execution_count": 23,
   "id": "ee9aa07d",
   "metadata": {},
   "outputs": [],
   "source": [
    "df['company']= label_encoder1.fit_transform(df['company'])"
   ]
  },
  {
   "cell_type": "code",
   "execution_count": 24,
   "id": "3404993c",
   "metadata": {},
   "outputs": [],
   "source": [
    "df['Processor']= label_encoder1.fit_transform(df['Processor'])"
   ]
  },
  {
   "cell_type": "code",
   "execution_count": 25,
   "id": "d2ae06b0",
   "metadata": {},
   "outputs": [],
   "source": [
    "df= df.drop('Processor_name',axis=1)"
   ]
  },
  {
   "cell_type": "code",
   "execution_count": 26,
   "id": "cfa5e18f",
   "metadata": {},
   "outputs": [],
   "source": [
    "df['Android_version']= label_encoder1.fit_transform(df['Android_version'])"
   ]
  },
  {
   "cell_type": "code",
   "execution_count": 27,
   "id": "413e7c62",
   "metadata": {
    "scrolled": true
   },
   "outputs": [
    {
     "data": {
      "text/html": [
       "<div>\n",
       "<style scoped>\n",
       "    .dataframe tbody tr th:only-of-type {\n",
       "        vertical-align: middle;\n",
       "    }\n",
       "\n",
       "    .dataframe tbody tr th {\n",
       "        vertical-align: top;\n",
       "    }\n",
       "\n",
       "    .dataframe thead th {\n",
       "        text-align: right;\n",
       "    }\n",
       "</style>\n",
       "<table border=\"1\" class=\"dataframe\">\n",
       "  <thead>\n",
       "    <tr style=\"text-align: right;\">\n",
       "      <th></th>\n",
       "      <th>Unnamed: 0</th>\n",
       "      <th>Rating</th>\n",
       "      <th>Spec_score</th>\n",
       "      <th>Ram</th>\n",
       "      <th>Battery</th>\n",
       "      <th>Display</th>\n",
       "      <th>Camera</th>\n",
       "      <th>External_Memory</th>\n",
       "      <th>Android_version</th>\n",
       "      <th>Price</th>\n",
       "      <th>company</th>\n",
       "      <th>Inbuilt_memory</th>\n",
       "      <th>fast_charging</th>\n",
       "      <th>Screen_resolution</th>\n",
       "      <th>Processor</th>\n",
       "      <th>Dual Sim</th>\n",
       "      <th>3G</th>\n",
       "      <th>4G</th>\n",
       "      <th>5G</th>\n",
       "      <th>VoLTE</th>\n",
       "    </tr>\n",
       "  </thead>\n",
       "  <tbody>\n",
       "    <tr>\n",
       "      <th>0</th>\n",
       "      <td>0</td>\n",
       "      <td>4.65</td>\n",
       "      <td>68</td>\n",
       "      <td>10</td>\n",
       "      <td>6000 mAh Battery</td>\n",
       "      <td>6.6 inches</td>\n",
       "      <td>50 MP + 2 MP Dual Rear &amp;amp; 13 MP Front Camera</td>\n",
       "      <td>Memory Card Supported, upto 1 TB</td>\n",
       "      <td>4</td>\n",
       "      <td>9,999</td>\n",
       "      <td>19</td>\n",
       "      <td>1</td>\n",
       "      <td>25W Fast Charging</td>\n",
       "      <td>2408 x 1080 px Display with Water Drop Notch</td>\n",
       "      <td>12</td>\n",
       "      <td>1</td>\n",
       "      <td>1</td>\n",
       "      <td>1</td>\n",
       "      <td>1</td>\n",
       "      <td>1</td>\n",
       "    </tr>\n",
       "    <tr>\n",
       "      <th>1</th>\n",
       "      <td>1</td>\n",
       "      <td>4.20</td>\n",
       "      <td>63</td>\n",
       "      <td>6</td>\n",
       "      <td>4000 mAh Battery</td>\n",
       "      <td>6.4 inches</td>\n",
       "      <td>13 MP + 5 MP + 2 MP Triple Rear &amp;amp; 8 MP Fro...</td>\n",
       "      <td>Memory Card Supported, upto 512 GB</td>\n",
       "      <td>0</td>\n",
       "      <td>9,990</td>\n",
       "      <td>19</td>\n",
       "      <td>5</td>\n",
       "      <td>15W Fast Charging</td>\n",
       "      <td>720 x 1560 px Display with Punch Hole</td>\n",
       "      <td>2</td>\n",
       "      <td>1</td>\n",
       "      <td>1</td>\n",
       "      <td>1</td>\n",
       "      <td>0</td>\n",
       "      <td>1</td>\n",
       "    </tr>\n",
       "    <tr>\n",
       "      <th>2</th>\n",
       "      <td>2</td>\n",
       "      <td>4.30</td>\n",
       "      <td>75</td>\n",
       "      <td>10</td>\n",
       "      <td>5000 mAh Battery</td>\n",
       "      <td>6.6 inches</td>\n",
       "      <td>50 MP Quad Rear &amp;amp; 8 MP Front Camera</td>\n",
       "      <td>Memory Card Supported, upto 1 TB</td>\n",
       "      <td>3</td>\n",
       "      <td>11,999</td>\n",
       "      <td>19</td>\n",
       "      <td>7</td>\n",
       "      <td>25W Fast Charging</td>\n",
       "      <td>1080 x 2408 px Display with Water Drop Notch</td>\n",
       "      <td>4</td>\n",
       "      <td>1</td>\n",
       "      <td>1</td>\n",
       "      <td>1</td>\n",
       "      <td>0</td>\n",
       "      <td>1</td>\n",
       "    </tr>\n",
       "    <tr>\n",
       "      <th>3</th>\n",
       "      <td>3</td>\n",
       "      <td>4.10</td>\n",
       "      <td>73</td>\n",
       "      <td>10</td>\n",
       "      <td>6000 mAh Battery</td>\n",
       "      <td>6.4 inches</td>\n",
       "      <td>48 MP Quad Rear &amp;amp; 13 MP Front Camera</td>\n",
       "      <td>Memory Card Supported, upto 1 TB</td>\n",
       "      <td>3</td>\n",
       "      <td>11,999</td>\n",
       "      <td>19</td>\n",
       "      <td>7</td>\n",
       "      <td>NaN</td>\n",
       "      <td>720 x 1600 px</td>\n",
       "      <td>11</td>\n",
       "      <td>1</td>\n",
       "      <td>1</td>\n",
       "      <td>1</td>\n",
       "      <td>0</td>\n",
       "      <td>1</td>\n",
       "    </tr>\n",
       "    <tr>\n",
       "      <th>4</th>\n",
       "      <td>4</td>\n",
       "      <td>4.10</td>\n",
       "      <td>69</td>\n",
       "      <td>10</td>\n",
       "      <td>5000 mAh Battery</td>\n",
       "      <td>6.5 inches</td>\n",
       "      <td>13 MP + 2 MP + 2 MP Triple Rear &amp;amp; 5 MP Fro...</td>\n",
       "      <td>Memory Card Supported, upto 1 TB</td>\n",
       "      <td>2</td>\n",
       "      <td>11,999</td>\n",
       "      <td>19</td>\n",
       "      <td>7</td>\n",
       "      <td>15W Fast Charging</td>\n",
       "      <td>720 x 1600 px Display with Water Drop Notch</td>\n",
       "      <td>11</td>\n",
       "      <td>1</td>\n",
       "      <td>1</td>\n",
       "      <td>1</td>\n",
       "      <td>0</td>\n",
       "      <td>1</td>\n",
       "    </tr>\n",
       "  </tbody>\n",
       "</table>\n",
       "</div>"
      ],
      "text/plain": [
       "   Unnamed: 0  Rating  Spec_score  Ram            Battery     Display  \\\n",
       "0           0    4.65          68   10  6000 mAh Battery   6.6 inches   \n",
       "1           1    4.20          63    6  4000 mAh Battery   6.4 inches   \n",
       "2           2    4.30          75   10  5000 mAh Battery   6.6 inches   \n",
       "3           3    4.10          73   10   6000 mAh Battery  6.4 inches   \n",
       "4           4    4.10          69   10  5000 mAh Battery   6.5 inches   \n",
       "\n",
       "                                              Camera  \\\n",
       "0    50 MP + 2 MP Dual Rear &amp; 13 MP Front Camera   \n",
       "1  13 MP + 5 MP + 2 MP Triple Rear &amp; 8 MP Fro...   \n",
       "2            50 MP Quad Rear &amp; 8 MP Front Camera   \n",
       "3           48 MP Quad Rear &amp; 13 MP Front Camera   \n",
       "4  13 MP + 2 MP + 2 MP Triple Rear &amp; 5 MP Fro...   \n",
       "\n",
       "                      External_Memory  Android_version   Price  company  \\\n",
       "0    Memory Card Supported, upto 1 TB                4   9,999       19   \n",
       "1  Memory Card Supported, upto 512 GB                0   9,990       19   \n",
       "2    Memory Card Supported, upto 1 TB                3  11,999       19   \n",
       "3    Memory Card Supported, upto 1 TB                3  11,999       19   \n",
       "4    Memory Card Supported, upto 1 TB                2  11,999       19   \n",
       "\n",
       "   Inbuilt_memory       fast_charging  \\\n",
       "0               1   25W Fast Charging   \n",
       "1               5   15W Fast Charging   \n",
       "2               7   25W Fast Charging   \n",
       "3               7                 NaN   \n",
       "4               7   15W Fast Charging   \n",
       "\n",
       "                               Screen_resolution  Processor  Dual Sim   3G  \\\n",
       "0   2408 x 1080 px Display with Water Drop Notch         12         1    1   \n",
       "1          720 x 1560 px Display with Punch Hole          2         1    1   \n",
       "2   1080 x 2408 px Display with Water Drop Notch          4         1    1   \n",
       "3                                  720 x 1600 px         11         1    1   \n",
       "4    720 x 1600 px Display with Water Drop Notch         11         1    1   \n",
       "\n",
       "    4G   5G   VoLTE  \n",
       "0    1    1       1  \n",
       "1    1    0       1  \n",
       "2    1    0       1  \n",
       "3    1    0       1  \n",
       "4    1    0       1  "
      ]
     },
     "execution_count": 27,
     "metadata": {},
     "output_type": "execute_result"
    }
   ],
   "source": [
    "df.head()"
   ]
  },
  {
   "cell_type": "code",
   "execution_count": 28,
   "id": "437a1dd2",
   "metadata": {},
   "outputs": [],
   "source": [
    "import re"
   ]
  },
  {
   "cell_type": "code",
   "execution_count": 29,
   "id": "df9afdfd",
   "metadata": {},
   "outputs": [],
   "source": [
    "def keep_numeric(text):\n",
    "    return ' '.join(re.findall(r'\\d+\\.\\d+|\\d+', text))"
   ]
  },
  {
   "cell_type": "code",
   "execution_count": 30,
   "id": "0fbb5f83",
   "metadata": {},
   "outputs": [],
   "source": [
    "df['Battery'] = df['Battery'].apply(keep_numeric)"
   ]
  },
  {
   "cell_type": "code",
   "execution_count": 31,
   "id": "00bd9481",
   "metadata": {},
   "outputs": [],
   "source": [
    "df['Display'] = df['Display'].apply(keep_numeric)"
   ]
  },
  {
   "cell_type": "code",
   "execution_count": null,
   "id": "9b6f6bbc",
   "metadata": {},
   "outputs": [],
   "source": []
  },
  {
   "cell_type": "code",
   "execution_count": 32,
   "id": "ee3c8576",
   "metadata": {},
   "outputs": [
    {
     "data": {
      "text/html": [
       "<div>\n",
       "<style scoped>\n",
       "    .dataframe tbody tr th:only-of-type {\n",
       "        vertical-align: middle;\n",
       "    }\n",
       "\n",
       "    .dataframe tbody tr th {\n",
       "        vertical-align: top;\n",
       "    }\n",
       "\n",
       "    .dataframe thead th {\n",
       "        text-align: right;\n",
       "    }\n",
       "</style>\n",
       "<table border=\"1\" class=\"dataframe\">\n",
       "  <thead>\n",
       "    <tr style=\"text-align: right;\">\n",
       "      <th></th>\n",
       "      <th>Unnamed: 0</th>\n",
       "      <th>Rating</th>\n",
       "      <th>Spec_score</th>\n",
       "      <th>Ram</th>\n",
       "      <th>Battery</th>\n",
       "      <th>Display</th>\n",
       "      <th>Camera</th>\n",
       "      <th>External_Memory</th>\n",
       "      <th>Android_version</th>\n",
       "      <th>Price</th>\n",
       "      <th>company</th>\n",
       "      <th>Inbuilt_memory</th>\n",
       "      <th>fast_charging</th>\n",
       "      <th>Screen_resolution</th>\n",
       "      <th>Processor</th>\n",
       "      <th>Dual Sim</th>\n",
       "      <th>3G</th>\n",
       "      <th>4G</th>\n",
       "      <th>5G</th>\n",
       "      <th>VoLTE</th>\n",
       "    </tr>\n",
       "  </thead>\n",
       "  <tbody>\n",
       "    <tr>\n",
       "      <th>0</th>\n",
       "      <td>0</td>\n",
       "      <td>4.65</td>\n",
       "      <td>68</td>\n",
       "      <td>10</td>\n",
       "      <td>6000</td>\n",
       "      <td>6.6</td>\n",
       "      <td>50 MP + 2 MP Dual Rear &amp;amp; 13 MP Front Camera</td>\n",
       "      <td>Memory Card Supported, upto 1 TB</td>\n",
       "      <td>4</td>\n",
       "      <td>9,999</td>\n",
       "      <td>19</td>\n",
       "      <td>1</td>\n",
       "      <td>25W Fast Charging</td>\n",
       "      <td>2408 x 1080 px Display with Water Drop Notch</td>\n",
       "      <td>12</td>\n",
       "      <td>1</td>\n",
       "      <td>1</td>\n",
       "      <td>1</td>\n",
       "      <td>1</td>\n",
       "      <td>1</td>\n",
       "    </tr>\n",
       "    <tr>\n",
       "      <th>1</th>\n",
       "      <td>1</td>\n",
       "      <td>4.20</td>\n",
       "      <td>63</td>\n",
       "      <td>6</td>\n",
       "      <td>4000</td>\n",
       "      <td>6.4</td>\n",
       "      <td>13 MP + 5 MP + 2 MP Triple Rear &amp;amp; 8 MP Fro...</td>\n",
       "      <td>Memory Card Supported, upto 512 GB</td>\n",
       "      <td>0</td>\n",
       "      <td>9,990</td>\n",
       "      <td>19</td>\n",
       "      <td>5</td>\n",
       "      <td>15W Fast Charging</td>\n",
       "      <td>720 x 1560 px Display with Punch Hole</td>\n",
       "      <td>2</td>\n",
       "      <td>1</td>\n",
       "      <td>1</td>\n",
       "      <td>1</td>\n",
       "      <td>0</td>\n",
       "      <td>1</td>\n",
       "    </tr>\n",
       "    <tr>\n",
       "      <th>2</th>\n",
       "      <td>2</td>\n",
       "      <td>4.30</td>\n",
       "      <td>75</td>\n",
       "      <td>10</td>\n",
       "      <td>5000</td>\n",
       "      <td>6.6</td>\n",
       "      <td>50 MP Quad Rear &amp;amp; 8 MP Front Camera</td>\n",
       "      <td>Memory Card Supported, upto 1 TB</td>\n",
       "      <td>3</td>\n",
       "      <td>11,999</td>\n",
       "      <td>19</td>\n",
       "      <td>7</td>\n",
       "      <td>25W Fast Charging</td>\n",
       "      <td>1080 x 2408 px Display with Water Drop Notch</td>\n",
       "      <td>4</td>\n",
       "      <td>1</td>\n",
       "      <td>1</td>\n",
       "      <td>1</td>\n",
       "      <td>0</td>\n",
       "      <td>1</td>\n",
       "    </tr>\n",
       "    <tr>\n",
       "      <th>3</th>\n",
       "      <td>3</td>\n",
       "      <td>4.10</td>\n",
       "      <td>73</td>\n",
       "      <td>10</td>\n",
       "      <td>6000</td>\n",
       "      <td>6.4</td>\n",
       "      <td>48 MP Quad Rear &amp;amp; 13 MP Front Camera</td>\n",
       "      <td>Memory Card Supported, upto 1 TB</td>\n",
       "      <td>3</td>\n",
       "      <td>11,999</td>\n",
       "      <td>19</td>\n",
       "      <td>7</td>\n",
       "      <td>NaN</td>\n",
       "      <td>720 x 1600 px</td>\n",
       "      <td>11</td>\n",
       "      <td>1</td>\n",
       "      <td>1</td>\n",
       "      <td>1</td>\n",
       "      <td>0</td>\n",
       "      <td>1</td>\n",
       "    </tr>\n",
       "    <tr>\n",
       "      <th>4</th>\n",
       "      <td>4</td>\n",
       "      <td>4.10</td>\n",
       "      <td>69</td>\n",
       "      <td>10</td>\n",
       "      <td>5000</td>\n",
       "      <td>6.5</td>\n",
       "      <td>13 MP + 2 MP + 2 MP Triple Rear &amp;amp; 5 MP Fro...</td>\n",
       "      <td>Memory Card Supported, upto 1 TB</td>\n",
       "      <td>2</td>\n",
       "      <td>11,999</td>\n",
       "      <td>19</td>\n",
       "      <td>7</td>\n",
       "      <td>15W Fast Charging</td>\n",
       "      <td>720 x 1600 px Display with Water Drop Notch</td>\n",
       "      <td>11</td>\n",
       "      <td>1</td>\n",
       "      <td>1</td>\n",
       "      <td>1</td>\n",
       "      <td>0</td>\n",
       "      <td>1</td>\n",
       "    </tr>\n",
       "  </tbody>\n",
       "</table>\n",
       "</div>"
      ],
      "text/plain": [
       "   Unnamed: 0  Rating  Spec_score  Ram Battery Display  \\\n",
       "0           0    4.65          68   10    6000     6.6   \n",
       "1           1    4.20          63    6    4000     6.4   \n",
       "2           2    4.30          75   10    5000     6.6   \n",
       "3           3    4.10          73   10    6000     6.4   \n",
       "4           4    4.10          69   10    5000     6.5   \n",
       "\n",
       "                                              Camera  \\\n",
       "0    50 MP + 2 MP Dual Rear &amp; 13 MP Front Camera   \n",
       "1  13 MP + 5 MP + 2 MP Triple Rear &amp; 8 MP Fro...   \n",
       "2            50 MP Quad Rear &amp; 8 MP Front Camera   \n",
       "3           48 MP Quad Rear &amp; 13 MP Front Camera   \n",
       "4  13 MP + 2 MP + 2 MP Triple Rear &amp; 5 MP Fro...   \n",
       "\n",
       "                      External_Memory  Android_version   Price  company  \\\n",
       "0    Memory Card Supported, upto 1 TB                4   9,999       19   \n",
       "1  Memory Card Supported, upto 512 GB                0   9,990       19   \n",
       "2    Memory Card Supported, upto 1 TB                3  11,999       19   \n",
       "3    Memory Card Supported, upto 1 TB                3  11,999       19   \n",
       "4    Memory Card Supported, upto 1 TB                2  11,999       19   \n",
       "\n",
       "   Inbuilt_memory       fast_charging  \\\n",
       "0               1   25W Fast Charging   \n",
       "1               5   15W Fast Charging   \n",
       "2               7   25W Fast Charging   \n",
       "3               7                 NaN   \n",
       "4               7   15W Fast Charging   \n",
       "\n",
       "                               Screen_resolution  Processor  Dual Sim   3G  \\\n",
       "0   2408 x 1080 px Display with Water Drop Notch         12         1    1   \n",
       "1          720 x 1560 px Display with Punch Hole          2         1    1   \n",
       "2   1080 x 2408 px Display with Water Drop Notch          4         1    1   \n",
       "3                                  720 x 1600 px         11         1    1   \n",
       "4    720 x 1600 px Display with Water Drop Notch         11         1    1   \n",
       "\n",
       "    4G   5G   VoLTE  \n",
       "0    1    1       1  \n",
       "1    1    0       1  \n",
       "2    1    0       1  \n",
       "3    1    0       1  \n",
       "4    1    0       1  "
      ]
     },
     "execution_count": 32,
     "metadata": {},
     "output_type": "execute_result"
    }
   ],
   "source": [
    "df.head()"
   ]
  },
  {
   "cell_type": "code",
   "execution_count": 33,
   "id": "0e054706",
   "metadata": {
    "scrolled": true
   },
   "outputs": [],
   "source": [
    "#df.isnull().sum()"
   ]
  },
  {
   "cell_type": "code",
   "execution_count": 34,
   "id": "242d6aea",
   "metadata": {},
   "outputs": [],
   "source": [
    "df = df.dropna()"
   ]
  },
  {
   "cell_type": "code",
   "execution_count": 35,
   "id": "a9f55e28",
   "metadata": {},
   "outputs": [
    {
     "data": {
      "text/plain": [
       "(1280, 20)"
      ]
     },
     "execution_count": 35,
     "metadata": {},
     "output_type": "execute_result"
    }
   ],
   "source": [
    "df.shape"
   ]
  },
  {
   "cell_type": "code",
   "execution_count": 36,
   "id": "f45306a0",
   "metadata": {},
   "outputs": [],
   "source": [
    "df['fast_charging'] = df['fast_charging'].apply(keep_numeric)"
   ]
  },
  {
   "cell_type": "code",
   "execution_count": 37,
   "id": "5d36e9fd",
   "metadata": {},
   "outputs": [
    {
     "data": {
      "text/html": [
       "<div>\n",
       "<style scoped>\n",
       "    .dataframe tbody tr th:only-of-type {\n",
       "        vertical-align: middle;\n",
       "    }\n",
       "\n",
       "    .dataframe tbody tr th {\n",
       "        vertical-align: top;\n",
       "    }\n",
       "\n",
       "    .dataframe thead th {\n",
       "        text-align: right;\n",
       "    }\n",
       "</style>\n",
       "<table border=\"1\" class=\"dataframe\">\n",
       "  <thead>\n",
       "    <tr style=\"text-align: right;\">\n",
       "      <th></th>\n",
       "      <th>Unnamed: 0</th>\n",
       "      <th>Rating</th>\n",
       "      <th>Spec_score</th>\n",
       "      <th>Ram</th>\n",
       "      <th>Battery</th>\n",
       "      <th>Display</th>\n",
       "      <th>Camera</th>\n",
       "      <th>External_Memory</th>\n",
       "      <th>Android_version</th>\n",
       "      <th>Price</th>\n",
       "      <th>company</th>\n",
       "      <th>Inbuilt_memory</th>\n",
       "      <th>fast_charging</th>\n",
       "      <th>Screen_resolution</th>\n",
       "      <th>Processor</th>\n",
       "      <th>Dual Sim</th>\n",
       "      <th>3G</th>\n",
       "      <th>4G</th>\n",
       "      <th>5G</th>\n",
       "      <th>VoLTE</th>\n",
       "    </tr>\n",
       "  </thead>\n",
       "  <tbody>\n",
       "    <tr>\n",
       "      <th>0</th>\n",
       "      <td>0</td>\n",
       "      <td>4.65</td>\n",
       "      <td>68</td>\n",
       "      <td>10</td>\n",
       "      <td>6000</td>\n",
       "      <td>6.6</td>\n",
       "      <td>50 MP + 2 MP Dual Rear &amp;amp; 13 MP Front Camera</td>\n",
       "      <td>Memory Card Supported, upto 1 TB</td>\n",
       "      <td>4</td>\n",
       "      <td>9,999</td>\n",
       "      <td>19</td>\n",
       "      <td>1</td>\n",
       "      <td>25</td>\n",
       "      <td>2408 x 1080 px Display with Water Drop Notch</td>\n",
       "      <td>12</td>\n",
       "      <td>1</td>\n",
       "      <td>1</td>\n",
       "      <td>1</td>\n",
       "      <td>1</td>\n",
       "      <td>1</td>\n",
       "    </tr>\n",
       "    <tr>\n",
       "      <th>1</th>\n",
       "      <td>1</td>\n",
       "      <td>4.20</td>\n",
       "      <td>63</td>\n",
       "      <td>6</td>\n",
       "      <td>4000</td>\n",
       "      <td>6.4</td>\n",
       "      <td>13 MP + 5 MP + 2 MP Triple Rear &amp;amp; 8 MP Fro...</td>\n",
       "      <td>Memory Card Supported, upto 512 GB</td>\n",
       "      <td>0</td>\n",
       "      <td>9,990</td>\n",
       "      <td>19</td>\n",
       "      <td>5</td>\n",
       "      <td>15</td>\n",
       "      <td>720 x 1560 px Display with Punch Hole</td>\n",
       "      <td>2</td>\n",
       "      <td>1</td>\n",
       "      <td>1</td>\n",
       "      <td>1</td>\n",
       "      <td>0</td>\n",
       "      <td>1</td>\n",
       "    </tr>\n",
       "    <tr>\n",
       "      <th>2</th>\n",
       "      <td>2</td>\n",
       "      <td>4.30</td>\n",
       "      <td>75</td>\n",
       "      <td>10</td>\n",
       "      <td>5000</td>\n",
       "      <td>6.6</td>\n",
       "      <td>50 MP Quad Rear &amp;amp; 8 MP Front Camera</td>\n",
       "      <td>Memory Card Supported, upto 1 TB</td>\n",
       "      <td>3</td>\n",
       "      <td>11,999</td>\n",
       "      <td>19</td>\n",
       "      <td>7</td>\n",
       "      <td>25</td>\n",
       "      <td>1080 x 2408 px Display with Water Drop Notch</td>\n",
       "      <td>4</td>\n",
       "      <td>1</td>\n",
       "      <td>1</td>\n",
       "      <td>1</td>\n",
       "      <td>0</td>\n",
       "      <td>1</td>\n",
       "    </tr>\n",
       "    <tr>\n",
       "      <th>4</th>\n",
       "      <td>4</td>\n",
       "      <td>4.10</td>\n",
       "      <td>69</td>\n",
       "      <td>10</td>\n",
       "      <td>5000</td>\n",
       "      <td>6.5</td>\n",
       "      <td>13 MP + 2 MP + 2 MP Triple Rear &amp;amp; 5 MP Fro...</td>\n",
       "      <td>Memory Card Supported, upto 1 TB</td>\n",
       "      <td>2</td>\n",
       "      <td>11,999</td>\n",
       "      <td>19</td>\n",
       "      <td>7</td>\n",
       "      <td>15</td>\n",
       "      <td>720 x 1600 px Display with Water Drop Notch</td>\n",
       "      <td>11</td>\n",
       "      <td>1</td>\n",
       "      <td>1</td>\n",
       "      <td>1</td>\n",
       "      <td>0</td>\n",
       "      <td>1</td>\n",
       "    </tr>\n",
       "    <tr>\n",
       "      <th>5</th>\n",
       "      <td>5</td>\n",
       "      <td>4.40</td>\n",
       "      <td>75</td>\n",
       "      <td>12</td>\n",
       "      <td>5000</td>\n",
       "      <td>6.5</td>\n",
       "      <td>50 MP + 2 MP Dual Rear &amp;amp; 5 MP Front Camera</td>\n",
       "      <td>Memory Card Supported, upto 1 TB</td>\n",
       "      <td>3</td>\n",
       "      <td>11,990</td>\n",
       "      <td>19</td>\n",
       "      <td>1</td>\n",
       "      <td>15</td>\n",
       "      <td>720 x 1600 px</td>\n",
       "      <td>11</td>\n",
       "      <td>1</td>\n",
       "      <td>1</td>\n",
       "      <td>1</td>\n",
       "      <td>1</td>\n",
       "      <td>1</td>\n",
       "    </tr>\n",
       "  </tbody>\n",
       "</table>\n",
       "</div>"
      ],
      "text/plain": [
       "   Unnamed: 0  Rating  Spec_score  Ram Battery Display  \\\n",
       "0           0    4.65          68   10    6000     6.6   \n",
       "1           1    4.20          63    6    4000     6.4   \n",
       "2           2    4.30          75   10    5000     6.6   \n",
       "4           4    4.10          69   10    5000     6.5   \n",
       "5           5    4.40          75   12    5000     6.5   \n",
       "\n",
       "                                              Camera  \\\n",
       "0    50 MP + 2 MP Dual Rear &amp; 13 MP Front Camera   \n",
       "1  13 MP + 5 MP + 2 MP Triple Rear &amp; 8 MP Fro...   \n",
       "2            50 MP Quad Rear &amp; 8 MP Front Camera   \n",
       "4  13 MP + 2 MP + 2 MP Triple Rear &amp; 5 MP Fro...   \n",
       "5     50 MP + 2 MP Dual Rear &amp; 5 MP Front Camera   \n",
       "\n",
       "                      External_Memory  Android_version   Price  company  \\\n",
       "0    Memory Card Supported, upto 1 TB                4   9,999       19   \n",
       "1  Memory Card Supported, upto 512 GB                0   9,990       19   \n",
       "2    Memory Card Supported, upto 1 TB                3  11,999       19   \n",
       "4    Memory Card Supported, upto 1 TB                2  11,999       19   \n",
       "5    Memory Card Supported, upto 1 TB                3  11,990       19   \n",
       "\n",
       "   Inbuilt_memory fast_charging  \\\n",
       "0               1            25   \n",
       "1               5            15   \n",
       "2               7            25   \n",
       "4               7            15   \n",
       "5               1            15   \n",
       "\n",
       "                               Screen_resolution  Processor  Dual Sim   3G  \\\n",
       "0   2408 x 1080 px Display with Water Drop Notch         12         1    1   \n",
       "1          720 x 1560 px Display with Punch Hole          2         1    1   \n",
       "2   1080 x 2408 px Display with Water Drop Notch          4         1    1   \n",
       "4    720 x 1600 px Display with Water Drop Notch         11         1    1   \n",
       "5                                  720 x 1600 px         11         1    1   \n",
       "\n",
       "    4G   5G   VoLTE  \n",
       "0    1    1       1  \n",
       "1    1    0       1  \n",
       "2    1    0       1  \n",
       "4    1    0       1  \n",
       "5    1    1       1  "
      ]
     },
     "execution_count": 37,
     "metadata": {},
     "output_type": "execute_result"
    }
   ],
   "source": [
    "df.head()"
   ]
  },
  {
   "cell_type": "code",
   "execution_count": 38,
   "id": "4a0d2190",
   "metadata": {},
   "outputs": [],
   "source": [
    "df = df.reset_index(drop=True)"
   ]
  },
  {
   "cell_type": "code",
   "execution_count": 39,
   "id": "9b8856d7",
   "metadata": {
    "scrolled": true
   },
   "outputs": [],
   "source": [
    "#df['Camera'] = df['Camera'].astype(str)"
   ]
  },
  {
   "cell_type": "code",
   "execution_count": 40,
   "id": "e1047db7",
   "metadata": {
    "scrolled": true
   },
   "outputs": [
    {
     "data": {
      "text/plain": [
       "str"
      ]
     },
     "execution_count": 40,
     "metadata": {},
     "output_type": "execute_result"
    }
   ],
   "source": [
    "type(df['Camera'][0])"
   ]
  },
  {
   "cell_type": "code",
   "execution_count": 41,
   "id": "38d884f3",
   "metadata": {},
   "outputs": [],
   "source": [
    "m,n = df.shape"
   ]
  },
  {
   "cell_type": "code",
   "execution_count": 42,
   "id": "5cb6d22a",
   "metadata": {},
   "outputs": [],
   "source": [
    "#lis=[]\n",
    "#for i in range(m):\n",
    "  #  df['Camera'][i]=df['Camera'][i].split(\";\")\n",
    "  #  for j in range(len(df['Camera'][i])):\n",
    "  #      if df['Camera'][i][j] not in lis:\n",
    "   #         lis.append(df['Camera'][i][j])\n",
    "    "
   ]
  },
  {
   "cell_type": "code",
   "execution_count": 44,
   "id": "ec5405dc",
   "metadata": {},
   "outputs": [],
   "source": [
    "#lis"
   ]
  },
  {
   "cell_type": "code",
   "execution_count": null,
   "id": "25c561c8",
   "metadata": {},
   "outputs": [],
   "source": [
    "'''df['Rear_Camera'] =0\n",
    "for i in range(m):\n",
    "    df['Rear_Camera'][i]=df['Camera'][i].split(\"Rear\")[0].split('MP')[-1]\n",
    "    #for j in range(len(df['Camera'][i])):\n",
    "     #   if df['Camera'][i][j] not in lis:\n",
    "      #      lis.append(df['Camera'][i][j])'''"
   ]
  },
  {
   "cell_type": "code",
   "execution_count": null,
   "id": "35646335",
   "metadata": {},
   "outputs": [],
   "source": [
    "#df['Rear_Camera'].unique()"
   ]
  },
  {
   "cell_type": "code",
   "execution_count": null,
   "id": "f8dc31ec",
   "metadata": {},
   "outputs": [],
   "source": [
    "index=[]"
   ]
  },
  {
   "cell_type": "code",
   "execution_count": null,
   "id": "53ee7819",
   "metadata": {},
   "outputs": [],
   "source": [
    "#df['Rear_Camera']= label_encoder1.fit_transform(df['Rear_Camera'])\n"
   ]
  },
  {
   "cell_type": "code",
   "execution_count": null,
   "id": "9204f099",
   "metadata": {},
   "outputs": [],
   "source": [
    "#df['Rear_Camera'].unique"
   ]
  },
  {
   "cell_type": "code",
   "execution_count": null,
   "id": "57d656e1",
   "metadata": {},
   "outputs": [],
   "source": [
    "#plt.scatter(df['Rear_Camera'],df['Price'])"
   ]
  },
  {
   "cell_type": "code",
   "execution_count": null,
   "id": "68afe2b8",
   "metadata": {},
   "outputs": [],
   "source": []
  },
  {
   "cell_type": "code",
   "execution_count": 45,
   "id": "8acc1bc8",
   "metadata": {},
   "outputs": [
    {
     "data": {
      "text/plain": [
       "0"
      ]
     },
     "execution_count": 45,
     "metadata": {},
     "output_type": "execute_result"
    }
   ],
   "source": [
    "df['Camera'].isnull().sum()"
   ]
  },
  {
   "cell_type": "code",
   "execution_count": 46,
   "id": "2a63d77e",
   "metadata": {},
   "outputs": [
    {
     "data": {
      "text/html": [
       "<div>\n",
       "<style scoped>\n",
       "    .dataframe tbody tr th:only-of-type {\n",
       "        vertical-align: middle;\n",
       "    }\n",
       "\n",
       "    .dataframe tbody tr th {\n",
       "        vertical-align: top;\n",
       "    }\n",
       "\n",
       "    .dataframe thead th {\n",
       "        text-align: right;\n",
       "    }\n",
       "</style>\n",
       "<table border=\"1\" class=\"dataframe\">\n",
       "  <thead>\n",
       "    <tr style=\"text-align: right;\">\n",
       "      <th></th>\n",
       "      <th>Unnamed: 0</th>\n",
       "      <th>Rating</th>\n",
       "      <th>Spec_score</th>\n",
       "      <th>Ram</th>\n",
       "      <th>Battery</th>\n",
       "      <th>Display</th>\n",
       "      <th>Camera</th>\n",
       "      <th>External_Memory</th>\n",
       "      <th>Android_version</th>\n",
       "      <th>Price</th>\n",
       "      <th>company</th>\n",
       "      <th>Inbuilt_memory</th>\n",
       "      <th>fast_charging</th>\n",
       "      <th>Screen_resolution</th>\n",
       "      <th>Processor</th>\n",
       "      <th>Dual Sim</th>\n",
       "      <th>3G</th>\n",
       "      <th>4G</th>\n",
       "      <th>5G</th>\n",
       "      <th>VoLTE</th>\n",
       "    </tr>\n",
       "  </thead>\n",
       "  <tbody>\n",
       "    <tr>\n",
       "      <th>1275</th>\n",
       "      <td>1365</td>\n",
       "      <td>4.05</td>\n",
       "      <td>75</td>\n",
       "      <td>10</td>\n",
       "      <td>5000</td>\n",
       "      <td>6.6</td>\n",
       "      <td>50 MP + 2 MP + 2 MP Triple Rear &amp;amp; 8 MP Fro...</td>\n",
       "      <td>Memory Card (Hybrid)</td>\n",
       "      <td>3</td>\n",
       "      <td>18,999</td>\n",
       "      <td>20</td>\n",
       "      <td>7</td>\n",
       "      <td>15</td>\n",
       "      <td>720 x 1612 px</td>\n",
       "      <td>11</td>\n",
       "      <td>1</td>\n",
       "      <td>1</td>\n",
       "      <td>1</td>\n",
       "      <td>1</td>\n",
       "      <td>1</td>\n",
       "    </tr>\n",
       "    <tr>\n",
       "      <th>1276</th>\n",
       "      <td>1366</td>\n",
       "      <td>4.10</td>\n",
       "      <td>80</td>\n",
       "      <td>14</td>\n",
       "      <td>5000</td>\n",
       "      <td>6.8</td>\n",
       "      <td>50 MP + 2 MP Dual Rear &amp;amp; 16 MP Front Camera</td>\n",
       "      <td>Memory Card (Hybrid)</td>\n",
       "      <td>5</td>\n",
       "      <td>24,990</td>\n",
       "      <td>20</td>\n",
       "      <td>1</td>\n",
       "      <td>33</td>\n",
       "      <td>1200 x 2400 px</td>\n",
       "      <td>11</td>\n",
       "      <td>1</td>\n",
       "      <td>1</td>\n",
       "      <td>1</td>\n",
       "      <td>0</td>\n",
       "      <td>1</td>\n",
       "    </tr>\n",
       "    <tr>\n",
       "      <th>1277</th>\n",
       "      <td>1367</td>\n",
       "      <td>4.00</td>\n",
       "      <td>80</td>\n",
       "      <td>12</td>\n",
       "      <td>5000</td>\n",
       "      <td>6.6</td>\n",
       "      <td>50 MP + 2 MP Dual Rear &amp;amp; 16 MP Front Camera</td>\n",
       "      <td>Memory Card Supported, upto 1 TB</td>\n",
       "      <td>4</td>\n",
       "      <td>23,990</td>\n",
       "      <td>20</td>\n",
       "      <td>3</td>\n",
       "      <td>18</td>\n",
       "      <td>720 x 1612 px</td>\n",
       "      <td>11</td>\n",
       "      <td>1</td>\n",
       "      <td>1</td>\n",
       "      <td>1</td>\n",
       "      <td>1</td>\n",
       "      <td>1</td>\n",
       "    </tr>\n",
       "    <tr>\n",
       "      <th>1278</th>\n",
       "      <td>1368</td>\n",
       "      <td>4.50</td>\n",
       "      <td>79</td>\n",
       "      <td>12</td>\n",
       "      <td>5000</td>\n",
       "      <td>6.6</td>\n",
       "      <td>50 MP + 2 MP + 2 MP Triple Rear &amp;amp; 8 MP Fro...</td>\n",
       "      <td>Memory Card Supported, upto 1 TB</td>\n",
       "      <td>4</td>\n",
       "      <td>22,499</td>\n",
       "      <td>20</td>\n",
       "      <td>3</td>\n",
       "      <td>15</td>\n",
       "      <td>720 x 1612 px</td>\n",
       "      <td>11</td>\n",
       "      <td>1</td>\n",
       "      <td>1</td>\n",
       "      <td>1</td>\n",
       "      <td>1</td>\n",
       "      <td>1</td>\n",
       "    </tr>\n",
       "    <tr>\n",
       "      <th>1279</th>\n",
       "      <td>1369</td>\n",
       "      <td>4.65</td>\n",
       "      <td>93</td>\n",
       "      <td>2</td>\n",
       "      <td>4600</td>\n",
       "      <td>10</td>\n",
       "      <td>Foldable Display, Dual Display</td>\n",
       "      <td>50 MP + 48 MP + 8 MP Triple Rear &amp;amp; 32 MP F...</td>\n",
       "      <td>4</td>\n",
       "      <td>1,19,990</td>\n",
       "      <td>20</td>\n",
       "      <td>3</td>\n",
       "      <td>67</td>\n",
       "      <td>1916 x 2160 px</td>\n",
       "      <td>11</td>\n",
       "      <td>1</td>\n",
       "      <td>1</td>\n",
       "      <td>1</td>\n",
       "      <td>1</td>\n",
       "      <td>1</td>\n",
       "    </tr>\n",
       "  </tbody>\n",
       "</table>\n",
       "</div>"
      ],
      "text/plain": [
       "      Unnamed: 0  Rating  Spec_score  Ram Battery Display  \\\n",
       "1275        1365    4.05          75   10    5000     6.6   \n",
       "1276        1366    4.10          80   14    5000     6.8   \n",
       "1277        1367    4.00          80   12    5000     6.6   \n",
       "1278        1368    4.50          79   12    5000     6.6   \n",
       "1279        1369    4.65          93    2    4600      10   \n",
       "\n",
       "                                                 Camera  \\\n",
       "1275  50 MP + 2 MP + 2 MP Triple Rear &amp; 8 MP Fro...   \n",
       "1276    50 MP + 2 MP Dual Rear &amp; 16 MP Front Camera   \n",
       "1277    50 MP + 2 MP Dual Rear &amp; 16 MP Front Camera   \n",
       "1278  50 MP + 2 MP + 2 MP Triple Rear &amp; 8 MP Fro...   \n",
       "1279                     Foldable Display, Dual Display   \n",
       "\n",
       "                                        External_Memory  Android_version  \\\n",
       "1275                               Memory Card (Hybrid)                3   \n",
       "1276                               Memory Card (Hybrid)                5   \n",
       "1277                   Memory Card Supported, upto 1 TB                4   \n",
       "1278                   Memory Card Supported, upto 1 TB                4   \n",
       "1279  50 MP + 48 MP + 8 MP Triple Rear &amp; 32 MP F...                4   \n",
       "\n",
       "         Price  company  Inbuilt_memory fast_charging Screen_resolution  \\\n",
       "1275    18,999       20               7            15     720 x 1612 px   \n",
       "1276    24,990       20               1            33    1200 x 2400 px   \n",
       "1277    23,990       20               3            18     720 x 1612 px   \n",
       "1278    22,499       20               3            15     720 x 1612 px   \n",
       "1279  1,19,990       20               3            67    1916 x 2160 px   \n",
       "\n",
       "      Processor  Dual Sim   3G   4G   5G   VoLTE  \n",
       "1275         11         1    1    1    1       1  \n",
       "1276         11         1    1    1    0       1  \n",
       "1277         11         1    1    1    1       1  \n",
       "1278         11         1    1    1    1       1  \n",
       "1279         11         1    1    1    1       1  "
      ]
     },
     "execution_count": 46,
     "metadata": {},
     "output_type": "execute_result"
    }
   ],
   "source": [
    "df.tail()"
   ]
  },
  {
   "cell_type": "code",
   "execution_count": 47,
   "id": "ce2f1e34",
   "metadata": {},
   "outputs": [
    {
     "data": {
      "text/plain": [
       "\"df['Rear_camera'] = 0\\ndf['front_camera'] = 0\\nfor i in range(m):\\n    #df['Camera'][i] = df['Camera'][i].split('&')\\n    df['Rear_camera'][i] = df['Camera'][i].split('&')[0]\\n    df['front_camera'][i] = df['Camera'][i][1].split(';')[1]\\n    #if df['Camera'][i][1].split(';')[0] =='amp':\\n      #  df['amp'] == 1:\\n            \""
      ]
     },
     "execution_count": 47,
     "metadata": {},
     "output_type": "execute_result"
    }
   ],
   "source": [
    "'''df['Rear_camera'] = 0\n",
    "df['front_camera'] = 0\n",
    "for i in range(m):\n",
    "    #df['Camera'][i] = df['Camera'][i].split('&')\n",
    "    df['Rear_camera'][i] = df['Camera'][i].split('&')[0]\n",
    "    df['front_camera'][i] = df['Camera'][i][1].split(';')[1]\n",
    "    #if df['Camera'][i][1].split(';')[0] =='amp':\n",
    "      #  df['amp'] == 1:\n",
    "            '''"
   ]
  },
  {
   "cell_type": "code",
   "execution_count": null,
   "id": "96623e28",
   "metadata": {},
   "outputs": [],
   "source": []
  },
  {
   "cell_type": "code",
   "execution_count": null,
   "id": "8000063d",
   "metadata": {},
   "outputs": [],
   "source": []
  },
  {
   "cell_type": "code",
   "execution_count": null,
   "id": "cbf08d21",
   "metadata": {},
   "outputs": [],
   "source": []
  },
  {
   "cell_type": "code",
   "execution_count": null,
   "id": "cadd976d",
   "metadata": {},
   "outputs": [],
   "source": []
  },
  {
   "cell_type": "code",
   "execution_count": null,
   "id": "a531acc1",
   "metadata": {},
   "outputs": [],
   "source": []
  },
  {
   "cell_type": "code",
   "execution_count": null,
   "id": "8b2f6a57",
   "metadata": {},
   "outputs": [],
   "source": []
  },
  {
   "cell_type": "code",
   "execution_count": null,
   "id": "d749996a",
   "metadata": {},
   "outputs": [],
   "source": []
  },
  {
   "cell_type": "code",
   "execution_count": null,
   "id": "213d26a7",
   "metadata": {},
   "outputs": [],
   "source": []
  },
  {
   "cell_type": "code",
   "execution_count": 48,
   "id": "d4ff34a1",
   "metadata": {},
   "outputs": [],
   "source": [
    "df['Camera'] = df['Camera'].astype(str)"
   ]
  },
  {
   "cell_type": "code",
   "execution_count": 49,
   "id": "372d4f86",
   "metadata": {},
   "outputs": [],
   "source": [
    "#df['Camera'][i].split('&')"
   ]
  },
  {
   "cell_type": "code",
   "execution_count": 50,
   "id": "2b51fd0c",
   "metadata": {},
   "outputs": [
    {
     "data": {
      "text/html": [
       "<div>\n",
       "<style scoped>\n",
       "    .dataframe tbody tr th:only-of-type {\n",
       "        vertical-align: middle;\n",
       "    }\n",
       "\n",
       "    .dataframe tbody tr th {\n",
       "        vertical-align: top;\n",
       "    }\n",
       "\n",
       "    .dataframe thead th {\n",
       "        text-align: right;\n",
       "    }\n",
       "</style>\n",
       "<table border=\"1\" class=\"dataframe\">\n",
       "  <thead>\n",
       "    <tr style=\"text-align: right;\">\n",
       "      <th></th>\n",
       "      <th>Unnamed: 0</th>\n",
       "      <th>Rating</th>\n",
       "      <th>Spec_score</th>\n",
       "      <th>Ram</th>\n",
       "      <th>Battery</th>\n",
       "      <th>Display</th>\n",
       "      <th>Camera</th>\n",
       "      <th>External_Memory</th>\n",
       "      <th>Android_version</th>\n",
       "      <th>Price</th>\n",
       "      <th>company</th>\n",
       "      <th>Inbuilt_memory</th>\n",
       "      <th>fast_charging</th>\n",
       "      <th>Screen_resolution</th>\n",
       "      <th>Processor</th>\n",
       "      <th>Dual Sim</th>\n",
       "      <th>3G</th>\n",
       "      <th>4G</th>\n",
       "      <th>5G</th>\n",
       "      <th>VoLTE</th>\n",
       "    </tr>\n",
       "  </thead>\n",
       "  <tbody>\n",
       "    <tr>\n",
       "      <th>0</th>\n",
       "      <td>0</td>\n",
       "      <td>4.65</td>\n",
       "      <td>68</td>\n",
       "      <td>10</td>\n",
       "      <td>6000</td>\n",
       "      <td>6.6</td>\n",
       "      <td>50 MP + 2 MP Dual Rear &amp;amp; 13 MP Front Camera</td>\n",
       "      <td>Memory Card Supported, upto 1 TB</td>\n",
       "      <td>4</td>\n",
       "      <td>9,999</td>\n",
       "      <td>19</td>\n",
       "      <td>1</td>\n",
       "      <td>25</td>\n",
       "      <td>2408 x 1080 px Display with Water Drop Notch</td>\n",
       "      <td>12</td>\n",
       "      <td>1</td>\n",
       "      <td>1</td>\n",
       "      <td>1</td>\n",
       "      <td>1</td>\n",
       "      <td>1</td>\n",
       "    </tr>\n",
       "    <tr>\n",
       "      <th>1</th>\n",
       "      <td>1</td>\n",
       "      <td>4.20</td>\n",
       "      <td>63</td>\n",
       "      <td>6</td>\n",
       "      <td>4000</td>\n",
       "      <td>6.4</td>\n",
       "      <td>13 MP + 5 MP + 2 MP Triple Rear &amp;amp; 8 MP Fro...</td>\n",
       "      <td>Memory Card Supported, upto 512 GB</td>\n",
       "      <td>0</td>\n",
       "      <td>9,990</td>\n",
       "      <td>19</td>\n",
       "      <td>5</td>\n",
       "      <td>15</td>\n",
       "      <td>720 x 1560 px Display with Punch Hole</td>\n",
       "      <td>2</td>\n",
       "      <td>1</td>\n",
       "      <td>1</td>\n",
       "      <td>1</td>\n",
       "      <td>0</td>\n",
       "      <td>1</td>\n",
       "    </tr>\n",
       "    <tr>\n",
       "      <th>2</th>\n",
       "      <td>2</td>\n",
       "      <td>4.30</td>\n",
       "      <td>75</td>\n",
       "      <td>10</td>\n",
       "      <td>5000</td>\n",
       "      <td>6.6</td>\n",
       "      <td>50 MP Quad Rear &amp;amp; 8 MP Front Camera</td>\n",
       "      <td>Memory Card Supported, upto 1 TB</td>\n",
       "      <td>3</td>\n",
       "      <td>11,999</td>\n",
       "      <td>19</td>\n",
       "      <td>7</td>\n",
       "      <td>25</td>\n",
       "      <td>1080 x 2408 px Display with Water Drop Notch</td>\n",
       "      <td>4</td>\n",
       "      <td>1</td>\n",
       "      <td>1</td>\n",
       "      <td>1</td>\n",
       "      <td>0</td>\n",
       "      <td>1</td>\n",
       "    </tr>\n",
       "    <tr>\n",
       "      <th>3</th>\n",
       "      <td>4</td>\n",
       "      <td>4.10</td>\n",
       "      <td>69</td>\n",
       "      <td>10</td>\n",
       "      <td>5000</td>\n",
       "      <td>6.5</td>\n",
       "      <td>13 MP + 2 MP + 2 MP Triple Rear &amp;amp; 5 MP Fro...</td>\n",
       "      <td>Memory Card Supported, upto 1 TB</td>\n",
       "      <td>2</td>\n",
       "      <td>11,999</td>\n",
       "      <td>19</td>\n",
       "      <td>7</td>\n",
       "      <td>15</td>\n",
       "      <td>720 x 1600 px Display with Water Drop Notch</td>\n",
       "      <td>11</td>\n",
       "      <td>1</td>\n",
       "      <td>1</td>\n",
       "      <td>1</td>\n",
       "      <td>0</td>\n",
       "      <td>1</td>\n",
       "    </tr>\n",
       "    <tr>\n",
       "      <th>4</th>\n",
       "      <td>5</td>\n",
       "      <td>4.40</td>\n",
       "      <td>75</td>\n",
       "      <td>12</td>\n",
       "      <td>5000</td>\n",
       "      <td>6.5</td>\n",
       "      <td>50 MP + 2 MP Dual Rear &amp;amp; 5 MP Front Camera</td>\n",
       "      <td>Memory Card Supported, upto 1 TB</td>\n",
       "      <td>3</td>\n",
       "      <td>11,990</td>\n",
       "      <td>19</td>\n",
       "      <td>1</td>\n",
       "      <td>15</td>\n",
       "      <td>720 x 1600 px</td>\n",
       "      <td>11</td>\n",
       "      <td>1</td>\n",
       "      <td>1</td>\n",
       "      <td>1</td>\n",
       "      <td>1</td>\n",
       "      <td>1</td>\n",
       "    </tr>\n",
       "  </tbody>\n",
       "</table>\n",
       "</div>"
      ],
      "text/plain": [
       "   Unnamed: 0  Rating  Spec_score  Ram Battery Display  \\\n",
       "0           0    4.65          68   10    6000     6.6   \n",
       "1           1    4.20          63    6    4000     6.4   \n",
       "2           2    4.30          75   10    5000     6.6   \n",
       "3           4    4.10          69   10    5000     6.5   \n",
       "4           5    4.40          75   12    5000     6.5   \n",
       "\n",
       "                                              Camera  \\\n",
       "0    50 MP + 2 MP Dual Rear &amp; 13 MP Front Camera   \n",
       "1  13 MP + 5 MP + 2 MP Triple Rear &amp; 8 MP Fro...   \n",
       "2            50 MP Quad Rear &amp; 8 MP Front Camera   \n",
       "3  13 MP + 2 MP + 2 MP Triple Rear &amp; 5 MP Fro...   \n",
       "4     50 MP + 2 MP Dual Rear &amp; 5 MP Front Camera   \n",
       "\n",
       "                      External_Memory  Android_version   Price  company  \\\n",
       "0    Memory Card Supported, upto 1 TB                4   9,999       19   \n",
       "1  Memory Card Supported, upto 512 GB                0   9,990       19   \n",
       "2    Memory Card Supported, upto 1 TB                3  11,999       19   \n",
       "3    Memory Card Supported, upto 1 TB                2  11,999       19   \n",
       "4    Memory Card Supported, upto 1 TB                3  11,990       19   \n",
       "\n",
       "   Inbuilt_memory fast_charging  \\\n",
       "0               1            25   \n",
       "1               5            15   \n",
       "2               7            25   \n",
       "3               7            15   \n",
       "4               1            15   \n",
       "\n",
       "                               Screen_resolution  Processor  Dual Sim   3G  \\\n",
       "0   2408 x 1080 px Display with Water Drop Notch         12         1    1   \n",
       "1          720 x 1560 px Display with Punch Hole          2         1    1   \n",
       "2   1080 x 2408 px Display with Water Drop Notch          4         1    1   \n",
       "3    720 x 1600 px Display with Water Drop Notch         11         1    1   \n",
       "4                                  720 x 1600 px         11         1    1   \n",
       "\n",
       "    4G   5G   VoLTE  \n",
       "0    1    1       1  \n",
       "1    1    0       1  \n",
       "2    1    0       1  \n",
       "3    1    0       1  \n",
       "4    1    1       1  "
      ]
     },
     "execution_count": 50,
     "metadata": {},
     "output_type": "execute_result"
    }
   ],
   "source": [
    "df.head()"
   ]
  },
  {
   "cell_type": "code",
   "execution_count": 51,
   "id": "6232fecf",
   "metadata": {},
   "outputs": [],
   "source": [
    "df['Screen_resolution'] = df['Screen_resolution'].astype(str)"
   ]
  },
  {
   "cell_type": "code",
   "execution_count": 52,
   "id": "fca53bb9",
   "metadata": {},
   "outputs": [],
   "source": [
    "dic ={' Full HD+ Display with Punch Hole':'1920 x 1080'}"
   ]
  },
  {
   "cell_type": "code",
   "execution_count": 53,
   "id": "539fe440",
   "metadata": {},
   "outputs": [],
   "source": [
    "df['Screen_resolution_length'] = 0\n",
    "df['Screen_resolution_width'] = 0\n",
    "for i in range(m):\n",
    "    #df['Camera'][i] = df['Camera'][i].split('&')\n",
    "    if  df['Screen_resolution'][i]==' Full HD+ Display with Punch Hole':\n",
    "        df['Screen_resolution'][i] = dic[' Full HD+ Display with Punch Hole']\n",
    "    df['Screen_resolution_length'][i] = df['Screen_resolution'][i].split('x')[0]\n",
    "    df['Screen_resolution_width'][i] = df['Screen_resolution'][i].split('x')[1].split('p')[0]\n"
   ]
  },
  {
   "cell_type": "code",
   "execution_count": 54,
   "id": "ec5f52f8",
   "metadata": {},
   "outputs": [
    {
     "data": {
      "text/html": [
       "<div>\n",
       "<style scoped>\n",
       "    .dataframe tbody tr th:only-of-type {\n",
       "        vertical-align: middle;\n",
       "    }\n",
       "\n",
       "    .dataframe tbody tr th {\n",
       "        vertical-align: top;\n",
       "    }\n",
       "\n",
       "    .dataframe thead th {\n",
       "        text-align: right;\n",
       "    }\n",
       "</style>\n",
       "<table border=\"1\" class=\"dataframe\">\n",
       "  <thead>\n",
       "    <tr style=\"text-align: right;\">\n",
       "      <th></th>\n",
       "      <th>Unnamed: 0</th>\n",
       "      <th>Rating</th>\n",
       "      <th>Spec_score</th>\n",
       "      <th>Ram</th>\n",
       "      <th>Battery</th>\n",
       "      <th>Display</th>\n",
       "      <th>Camera</th>\n",
       "      <th>External_Memory</th>\n",
       "      <th>Android_version</th>\n",
       "      <th>Price</th>\n",
       "      <th>...</th>\n",
       "      <th>fast_charging</th>\n",
       "      <th>Screen_resolution</th>\n",
       "      <th>Processor</th>\n",
       "      <th>Dual Sim</th>\n",
       "      <th>3G</th>\n",
       "      <th>4G</th>\n",
       "      <th>5G</th>\n",
       "      <th>VoLTE</th>\n",
       "      <th>Screen_resolution_length</th>\n",
       "      <th>Screen_resolution_width</th>\n",
       "    </tr>\n",
       "  </thead>\n",
       "  <tbody>\n",
       "    <tr>\n",
       "      <th>0</th>\n",
       "      <td>0</td>\n",
       "      <td>4.65</td>\n",
       "      <td>68</td>\n",
       "      <td>10</td>\n",
       "      <td>6000</td>\n",
       "      <td>6.6</td>\n",
       "      <td>50 MP + 2 MP Dual Rear &amp;amp; 13 MP Front Camera</td>\n",
       "      <td>Memory Card Supported, upto 1 TB</td>\n",
       "      <td>4</td>\n",
       "      <td>9,999</td>\n",
       "      <td>...</td>\n",
       "      <td>25</td>\n",
       "      <td>2408 x 1080 px Display with Water Drop Notch</td>\n",
       "      <td>12</td>\n",
       "      <td>1</td>\n",
       "      <td>1</td>\n",
       "      <td>1</td>\n",
       "      <td>1</td>\n",
       "      <td>1</td>\n",
       "      <td>2408</td>\n",
       "      <td>1080</td>\n",
       "    </tr>\n",
       "    <tr>\n",
       "      <th>1</th>\n",
       "      <td>1</td>\n",
       "      <td>4.20</td>\n",
       "      <td>63</td>\n",
       "      <td>6</td>\n",
       "      <td>4000</td>\n",
       "      <td>6.4</td>\n",
       "      <td>13 MP + 5 MP + 2 MP Triple Rear &amp;amp; 8 MP Fro...</td>\n",
       "      <td>Memory Card Supported, upto 512 GB</td>\n",
       "      <td>0</td>\n",
       "      <td>9,990</td>\n",
       "      <td>...</td>\n",
       "      <td>15</td>\n",
       "      <td>720 x 1560 px Display with Punch Hole</td>\n",
       "      <td>2</td>\n",
       "      <td>1</td>\n",
       "      <td>1</td>\n",
       "      <td>1</td>\n",
       "      <td>0</td>\n",
       "      <td>1</td>\n",
       "      <td>720</td>\n",
       "      <td>1560</td>\n",
       "    </tr>\n",
       "    <tr>\n",
       "      <th>2</th>\n",
       "      <td>2</td>\n",
       "      <td>4.30</td>\n",
       "      <td>75</td>\n",
       "      <td>10</td>\n",
       "      <td>5000</td>\n",
       "      <td>6.6</td>\n",
       "      <td>50 MP Quad Rear &amp;amp; 8 MP Front Camera</td>\n",
       "      <td>Memory Card Supported, upto 1 TB</td>\n",
       "      <td>3</td>\n",
       "      <td>11,999</td>\n",
       "      <td>...</td>\n",
       "      <td>25</td>\n",
       "      <td>1080 x 2408 px Display with Water Drop Notch</td>\n",
       "      <td>4</td>\n",
       "      <td>1</td>\n",
       "      <td>1</td>\n",
       "      <td>1</td>\n",
       "      <td>0</td>\n",
       "      <td>1</td>\n",
       "      <td>1080</td>\n",
       "      <td>2408</td>\n",
       "    </tr>\n",
       "    <tr>\n",
       "      <th>3</th>\n",
       "      <td>4</td>\n",
       "      <td>4.10</td>\n",
       "      <td>69</td>\n",
       "      <td>10</td>\n",
       "      <td>5000</td>\n",
       "      <td>6.5</td>\n",
       "      <td>13 MP + 2 MP + 2 MP Triple Rear &amp;amp; 5 MP Fro...</td>\n",
       "      <td>Memory Card Supported, upto 1 TB</td>\n",
       "      <td>2</td>\n",
       "      <td>11,999</td>\n",
       "      <td>...</td>\n",
       "      <td>15</td>\n",
       "      <td>720 x 1600 px Display with Water Drop Notch</td>\n",
       "      <td>11</td>\n",
       "      <td>1</td>\n",
       "      <td>1</td>\n",
       "      <td>1</td>\n",
       "      <td>0</td>\n",
       "      <td>1</td>\n",
       "      <td>720</td>\n",
       "      <td>1600</td>\n",
       "    </tr>\n",
       "    <tr>\n",
       "      <th>4</th>\n",
       "      <td>5</td>\n",
       "      <td>4.40</td>\n",
       "      <td>75</td>\n",
       "      <td>12</td>\n",
       "      <td>5000</td>\n",
       "      <td>6.5</td>\n",
       "      <td>50 MP + 2 MP Dual Rear &amp;amp; 5 MP Front Camera</td>\n",
       "      <td>Memory Card Supported, upto 1 TB</td>\n",
       "      <td>3</td>\n",
       "      <td>11,990</td>\n",
       "      <td>...</td>\n",
       "      <td>15</td>\n",
       "      <td>720 x 1600 px</td>\n",
       "      <td>11</td>\n",
       "      <td>1</td>\n",
       "      <td>1</td>\n",
       "      <td>1</td>\n",
       "      <td>1</td>\n",
       "      <td>1</td>\n",
       "      <td>720</td>\n",
       "      <td>1600</td>\n",
       "    </tr>\n",
       "  </tbody>\n",
       "</table>\n",
       "<p>5 rows × 22 columns</p>\n",
       "</div>"
      ],
      "text/plain": [
       "   Unnamed: 0  Rating  Spec_score  Ram Battery Display  \\\n",
       "0           0    4.65          68   10    6000     6.6   \n",
       "1           1    4.20          63    6    4000     6.4   \n",
       "2           2    4.30          75   10    5000     6.6   \n",
       "3           4    4.10          69   10    5000     6.5   \n",
       "4           5    4.40          75   12    5000     6.5   \n",
       "\n",
       "                                              Camera  \\\n",
       "0    50 MP + 2 MP Dual Rear &amp; 13 MP Front Camera   \n",
       "1  13 MP + 5 MP + 2 MP Triple Rear &amp; 8 MP Fro...   \n",
       "2            50 MP Quad Rear &amp; 8 MP Front Camera   \n",
       "3  13 MP + 2 MP + 2 MP Triple Rear &amp; 5 MP Fro...   \n",
       "4     50 MP + 2 MP Dual Rear &amp; 5 MP Front Camera   \n",
       "\n",
       "                      External_Memory  Android_version   Price  ...  \\\n",
       "0    Memory Card Supported, upto 1 TB                4   9,999  ...   \n",
       "1  Memory Card Supported, upto 512 GB                0   9,990  ...   \n",
       "2    Memory Card Supported, upto 1 TB                3  11,999  ...   \n",
       "3    Memory Card Supported, upto 1 TB                2  11,999  ...   \n",
       "4    Memory Card Supported, upto 1 TB                3  11,990  ...   \n",
       "\n",
       "   fast_charging                              Screen_resolution Processor  \\\n",
       "0             25   2408 x 1080 px Display with Water Drop Notch        12   \n",
       "1             15          720 x 1560 px Display with Punch Hole         2   \n",
       "2             25   1080 x 2408 px Display with Water Drop Notch         4   \n",
       "3             15    720 x 1600 px Display with Water Drop Notch        11   \n",
       "4             15                                  720 x 1600 px        11   \n",
       "\n",
       "  Dual Sim   3G   4G   5G   VoLTE  Screen_resolution_length  \\\n",
       "0        1    1    1    1       1                     2408    \n",
       "1        1    1    1    0       1                      720    \n",
       "2        1    1    1    0       1                     1080    \n",
       "3        1    1    1    0       1                      720    \n",
       "4        1    1    1    1       1                      720    \n",
       "\n",
       "   Screen_resolution_width  \n",
       "0                    1080   \n",
       "1                    1560   \n",
       "2                    2408   \n",
       "3                    1600   \n",
       "4                    1600   \n",
       "\n",
       "[5 rows x 22 columns]"
      ]
     },
     "execution_count": 54,
     "metadata": {},
     "output_type": "execute_result"
    }
   ],
   "source": [
    "df.head()"
   ]
  },
  {
   "cell_type": "code",
   "execution_count": 55,
   "id": "2d22ad96",
   "metadata": {},
   "outputs": [
    {
     "data": {
      "text/plain": [
       "<AxesSubplot:xlabel='Camera', ylabel='Count'>"
      ]
     },
     "execution_count": 55,
     "metadata": {},
     "output_type": "execute_result"
    },
    {
     "data": {
      "image/png": "[encoded data removed]",
      "text/plain": [
       "<Figure size 432x288 with 1 Axes>"
      ]
     },
     "metadata": {
      "needs_background": "light"
     },
     "output_type": "display_data"
    }
   ],
   "source": [
    "import seaborn as sns\n",
    "sns.histplot(df['Camera'])"
   ]
  },
  {
   "cell_type": "code",
   "execution_count": 56,
   "id": "6298d11d",
   "metadata": {},
   "outputs": [],
   "source": [
    "df['Screen_resolution_length'] = df['Screen_resolution_length'].astype(float)\n",
    "df['Screen_resolution_width'] = df['Screen_resolution_width'].astype(float)"
   ]
  },
  {
   "cell_type": "code",
   "execution_count": 57,
   "id": "7997f432",
   "metadata": {},
   "outputs": [],
   "source": [
    "#df.drop('Rear_camera',inplace=True,axis=1)"
   ]
  },
  {
   "cell_type": "code",
   "execution_count": 59,
   "id": "b7d7915e",
   "metadata": {},
   "outputs": [],
   "source": [
    "#df.drop('front_camera',inplace=True,axis=1)"
   ]
  },
  {
   "cell_type": "code",
   "execution_count": null,
   "id": "6f62b17a",
   "metadata": {},
   "outputs": [],
   "source": [
    "#df.drop('Camera',inplace=True,axis=1)"
   ]
  },
  {
   "cell_type": "code",
   "execution_count": 60,
   "id": "6e492db5",
   "metadata": {},
   "outputs": [],
   "source": [
    "df.drop('Screen_resolution',inplace=True,axis=1)\n",
    "df.drop('External_Memory',inplace=True,axis=1)"
   ]
  },
  {
   "cell_type": "code",
   "execution_count": 61,
   "id": "a40d6829",
   "metadata": {},
   "outputs": [
    {
     "data": {
      "text/html": [
       "<div>\n",
       "<style scoped>\n",
       "    .dataframe tbody tr th:only-of-type {\n",
       "        vertical-align: middle;\n",
       "    }\n",
       "\n",
       "    .dataframe tbody tr th {\n",
       "        vertical-align: top;\n",
       "    }\n",
       "\n",
       "    .dataframe thead th {\n",
       "        text-align: right;\n",
       "    }\n",
       "</style>\n",
       "<table border=\"1\" class=\"dataframe\">\n",
       "  <thead>\n",
       "    <tr style=\"text-align: right;\">\n",
       "      <th></th>\n",
       "      <th>Unnamed: 0</th>\n",
       "      <th>Rating</th>\n",
       "      <th>Spec_score</th>\n",
       "      <th>Ram</th>\n",
       "      <th>Battery</th>\n",
       "      <th>Display</th>\n",
       "      <th>Camera</th>\n",
       "      <th>Android_version</th>\n",
       "      <th>Price</th>\n",
       "      <th>company</th>\n",
       "      <th>Inbuilt_memory</th>\n",
       "      <th>fast_charging</th>\n",
       "      <th>Processor</th>\n",
       "      <th>Dual Sim</th>\n",
       "      <th>3G</th>\n",
       "      <th>4G</th>\n",
       "      <th>5G</th>\n",
       "      <th>VoLTE</th>\n",
       "      <th>Screen_resolution_length</th>\n",
       "      <th>Screen_resolution_width</th>\n",
       "    </tr>\n",
       "  </thead>\n",
       "  <tbody>\n",
       "    <tr>\n",
       "      <th>0</th>\n",
       "      <td>0</td>\n",
       "      <td>4.65</td>\n",
       "      <td>68</td>\n",
       "      <td>10</td>\n",
       "      <td>6000</td>\n",
       "      <td>6.6</td>\n",
       "      <td>50 MP + 2 MP Dual Rear &amp;amp; 13 MP Front Camera</td>\n",
       "      <td>4</td>\n",
       "      <td>9,999</td>\n",
       "      <td>19</td>\n",
       "      <td>1</td>\n",
       "      <td>25</td>\n",
       "      <td>12</td>\n",
       "      <td>1</td>\n",
       "      <td>1</td>\n",
       "      <td>1</td>\n",
       "      <td>1</td>\n",
       "      <td>1</td>\n",
       "      <td>2408.0</td>\n",
       "      <td>1080.0</td>\n",
       "    </tr>\n",
       "    <tr>\n",
       "      <th>1</th>\n",
       "      <td>1</td>\n",
       "      <td>4.20</td>\n",
       "      <td>63</td>\n",
       "      <td>6</td>\n",
       "      <td>4000</td>\n",
       "      <td>6.4</td>\n",
       "      <td>13 MP + 5 MP + 2 MP Triple Rear &amp;amp; 8 MP Fro...</td>\n",
       "      <td>0</td>\n",
       "      <td>9,990</td>\n",
       "      <td>19</td>\n",
       "      <td>5</td>\n",
       "      <td>15</td>\n",
       "      <td>2</td>\n",
       "      <td>1</td>\n",
       "      <td>1</td>\n",
       "      <td>1</td>\n",
       "      <td>0</td>\n",
       "      <td>1</td>\n",
       "      <td>720.0</td>\n",
       "      <td>1560.0</td>\n",
       "    </tr>\n",
       "    <tr>\n",
       "      <th>2</th>\n",
       "      <td>2</td>\n",
       "      <td>4.30</td>\n",
       "      <td>75</td>\n",
       "      <td>10</td>\n",
       "      <td>5000</td>\n",
       "      <td>6.6</td>\n",
       "      <td>50 MP Quad Rear &amp;amp; 8 MP Front Camera</td>\n",
       "      <td>3</td>\n",
       "      <td>11,999</td>\n",
       "      <td>19</td>\n",
       "      <td>7</td>\n",
       "      <td>25</td>\n",
       "      <td>4</td>\n",
       "      <td>1</td>\n",
       "      <td>1</td>\n",
       "      <td>1</td>\n",
       "      <td>0</td>\n",
       "      <td>1</td>\n",
       "      <td>1080.0</td>\n",
       "      <td>2408.0</td>\n",
       "    </tr>\n",
       "    <tr>\n",
       "      <th>3</th>\n",
       "      <td>4</td>\n",
       "      <td>4.10</td>\n",
       "      <td>69</td>\n",
       "      <td>10</td>\n",
       "      <td>5000</td>\n",
       "      <td>6.5</td>\n",
       "      <td>13 MP + 2 MP + 2 MP Triple Rear &amp;amp; 5 MP Fro...</td>\n",
       "      <td>2</td>\n",
       "      <td>11,999</td>\n",
       "      <td>19</td>\n",
       "      <td>7</td>\n",
       "      <td>15</td>\n",
       "      <td>11</td>\n",
       "      <td>1</td>\n",
       "      <td>1</td>\n",
       "      <td>1</td>\n",
       "      <td>0</td>\n",
       "      <td>1</td>\n",
       "      <td>720.0</td>\n",
       "      <td>1600.0</td>\n",
       "    </tr>\n",
       "    <tr>\n",
       "      <th>4</th>\n",
       "      <td>5</td>\n",
       "      <td>4.40</td>\n",
       "      <td>75</td>\n",
       "      <td>12</td>\n",
       "      <td>5000</td>\n",
       "      <td>6.5</td>\n",
       "      <td>50 MP + 2 MP Dual Rear &amp;amp; 5 MP Front Camera</td>\n",
       "      <td>3</td>\n",
       "      <td>11,990</td>\n",
       "      <td>19</td>\n",
       "      <td>1</td>\n",
       "      <td>15</td>\n",
       "      <td>11</td>\n",
       "      <td>1</td>\n",
       "      <td>1</td>\n",
       "      <td>1</td>\n",
       "      <td>1</td>\n",
       "      <td>1</td>\n",
       "      <td>720.0</td>\n",
       "      <td>1600.0</td>\n",
       "    </tr>\n",
       "  </tbody>\n",
       "</table>\n",
       "</div>"
      ],
      "text/plain": [
       "   Unnamed: 0  Rating  Spec_score  Ram Battery Display  \\\n",
       "0           0    4.65          68   10    6000     6.6   \n",
       "1           1    4.20          63    6    4000     6.4   \n",
       "2           2    4.30          75   10    5000     6.6   \n",
       "3           4    4.10          69   10    5000     6.5   \n",
       "4           5    4.40          75   12    5000     6.5   \n",
       "\n",
       "                                              Camera  Android_version   Price  \\\n",
       "0    50 MP + 2 MP Dual Rear &amp; 13 MP Front Camera                4   9,999   \n",
       "1  13 MP + 5 MP + 2 MP Triple Rear &amp; 8 MP Fro...                0   9,990   \n",
       "2            50 MP Quad Rear &amp; 8 MP Front Camera                3  11,999   \n",
       "3  13 MP + 2 MP + 2 MP Triple Rear &amp; 5 MP Fro...                2  11,999   \n",
       "4     50 MP + 2 MP Dual Rear &amp; 5 MP Front Camera                3  11,990   \n",
       "\n",
       "   company  Inbuilt_memory fast_charging  Processor  Dual Sim   3G   4G   5G  \\\n",
       "0       19               1            25         12         1    1    1    1   \n",
       "1       19               5            15          2         1    1    1    0   \n",
       "2       19               7            25          4         1    1    1    0   \n",
       "3       19               7            15         11         1    1    1    0   \n",
       "4       19               1            15         11         1    1    1    1   \n",
       "\n",
       "    VoLTE  Screen_resolution_length  Screen_resolution_width  \n",
       "0       1                    2408.0                   1080.0  \n",
       "1       1                     720.0                   1560.0  \n",
       "2       1                    1080.0                   2408.0  \n",
       "3       1                     720.0                   1600.0  \n",
       "4       1                     720.0                   1600.0  "
      ]
     },
     "execution_count": 61,
     "metadata": {},
     "output_type": "execute_result"
    }
   ],
   "source": [
    "df.head()"
   ]
  },
  {
   "cell_type": "code",
   "execution_count": 62,
   "id": "86b33071",
   "metadata": {},
   "outputs": [
    {
     "data": {
      "text/plain": [
       "Unnamed: 0                    int64\n",
       "Rating                      float64\n",
       "Spec_score                    int64\n",
       "Ram                           int32\n",
       "Battery                      object\n",
       "Display                      object\n",
       "Camera                       object\n",
       "Android_version               int32\n",
       "Price                        object\n",
       "company                       int32\n",
       "Inbuilt_memory                int32\n",
       "fast_charging                object\n",
       "Processor                     int32\n",
       "Dual Sim                      int64\n",
       " 3G                           int64\n",
       " 4G                           int64\n",
       " 5G                           int64\n",
       " VoLTE                        int64\n",
       "Screen_resolution_length    float64\n",
       "Screen_resolution_width     float64\n",
       "dtype: object"
      ]
     },
     "execution_count": 62,
     "metadata": {},
     "output_type": "execute_result"
    }
   ],
   "source": [
    "df.dtypes"
   ]
  },
  {
   "cell_type": "code",
   "execution_count": 63,
   "id": "9c4f3338",
   "metadata": {},
   "outputs": [],
   "source": [
    "df['fast_charging'].isnull().sum()\n",
    "\n",
    "m,n = df.shape\n",
    "\n",
    "index = []\n",
    "for i in range(m):\n",
    "    if df['fast_charging'][i]=='':\n",
    "        index.append(i)\n",
    "        \n",
    "    \n",
    "    \n",
    "\n",
    "\n",
    "index\n",
    "\n",
    "df = df.drop(index,axis=0)"
   ]
  },
  {
   "cell_type": "code",
   "execution_count": 64,
   "id": "3f066039",
   "metadata": {},
   "outputs": [],
   "source": [
    "df['Battery'] = df['Battery'].astype(int)\n",
    "df['Display'] = df['Display'].astype(float)\n",
    "df['Price'] = df['Price'].str.replace(',', '').astype(int)\n"
   ]
  },
  {
   "cell_type": "code",
   "execution_count": 65,
   "id": "4b6050ba",
   "metadata": {},
   "outputs": [],
   "source": [
    "df['fast_charging'] = df['fast_charging'].astype(float)"
   ]
  },
  {
   "cell_type": "code",
   "execution_count": 66,
   "id": "d63d384c",
   "metadata": {},
   "outputs": [
    {
     "data": {
      "text/html": [
       "<div>\n",
       "<style scoped>\n",
       "    .dataframe tbody tr th:only-of-type {\n",
       "        vertical-align: middle;\n",
       "    }\n",
       "\n",
       "    .dataframe tbody tr th {\n",
       "        vertical-align: top;\n",
       "    }\n",
       "\n",
       "    .dataframe thead th {\n",
       "        text-align: right;\n",
       "    }\n",
       "</style>\n",
       "<table border=\"1\" class=\"dataframe\">\n",
       "  <thead>\n",
       "    <tr style=\"text-align: right;\">\n",
       "      <th></th>\n",
       "      <th>Unnamed: 0</th>\n",
       "      <th>Rating</th>\n",
       "      <th>Spec_score</th>\n",
       "      <th>Ram</th>\n",
       "      <th>Battery</th>\n",
       "      <th>Display</th>\n",
       "      <th>Camera</th>\n",
       "      <th>Android_version</th>\n",
       "      <th>Price</th>\n",
       "      <th>company</th>\n",
       "      <th>Inbuilt_memory</th>\n",
       "      <th>fast_charging</th>\n",
       "      <th>Processor</th>\n",
       "      <th>Dual Sim</th>\n",
       "      <th>3G</th>\n",
       "      <th>4G</th>\n",
       "      <th>5G</th>\n",
       "      <th>VoLTE</th>\n",
       "      <th>Screen_resolution_length</th>\n",
       "      <th>Screen_resolution_width</th>\n",
       "    </tr>\n",
       "  </thead>\n",
       "  <tbody>\n",
       "    <tr>\n",
       "      <th>0</th>\n",
       "      <td>0</td>\n",
       "      <td>4.65</td>\n",
       "      <td>68</td>\n",
       "      <td>10</td>\n",
       "      <td>6000</td>\n",
       "      <td>6.6</td>\n",
       "      <td>50 MP + 2 MP Dual Rear &amp;amp; 13 MP Front Camera</td>\n",
       "      <td>4</td>\n",
       "      <td>9999</td>\n",
       "      <td>19</td>\n",
       "      <td>1</td>\n",
       "      <td>25.0</td>\n",
       "      <td>12</td>\n",
       "      <td>1</td>\n",
       "      <td>1</td>\n",
       "      <td>1</td>\n",
       "      <td>1</td>\n",
       "      <td>1</td>\n",
       "      <td>2408.0</td>\n",
       "      <td>1080.0</td>\n",
       "    </tr>\n",
       "    <tr>\n",
       "      <th>1</th>\n",
       "      <td>1</td>\n",
       "      <td>4.20</td>\n",
       "      <td>63</td>\n",
       "      <td>6</td>\n",
       "      <td>4000</td>\n",
       "      <td>6.4</td>\n",
       "      <td>13 MP + 5 MP + 2 MP Triple Rear &amp;amp; 8 MP Fro...</td>\n",
       "      <td>0</td>\n",
       "      <td>9990</td>\n",
       "      <td>19</td>\n",
       "      <td>5</td>\n",
       "      <td>15.0</td>\n",
       "      <td>2</td>\n",
       "      <td>1</td>\n",
       "      <td>1</td>\n",
       "      <td>1</td>\n",
       "      <td>0</td>\n",
       "      <td>1</td>\n",
       "      <td>720.0</td>\n",
       "      <td>1560.0</td>\n",
       "    </tr>\n",
       "    <tr>\n",
       "      <th>2</th>\n",
       "      <td>2</td>\n",
       "      <td>4.30</td>\n",
       "      <td>75</td>\n",
       "      <td>10</td>\n",
       "      <td>5000</td>\n",
       "      <td>6.6</td>\n",
       "      <td>50 MP Quad Rear &amp;amp; 8 MP Front Camera</td>\n",
       "      <td>3</td>\n",
       "      <td>11999</td>\n",
       "      <td>19</td>\n",
       "      <td>7</td>\n",
       "      <td>25.0</td>\n",
       "      <td>4</td>\n",
       "      <td>1</td>\n",
       "      <td>1</td>\n",
       "      <td>1</td>\n",
       "      <td>0</td>\n",
       "      <td>1</td>\n",
       "      <td>1080.0</td>\n",
       "      <td>2408.0</td>\n",
       "    </tr>\n",
       "    <tr>\n",
       "      <th>3</th>\n",
       "      <td>4</td>\n",
       "      <td>4.10</td>\n",
       "      <td>69</td>\n",
       "      <td>10</td>\n",
       "      <td>5000</td>\n",
       "      <td>6.5</td>\n",
       "      <td>13 MP + 2 MP + 2 MP Triple Rear &amp;amp; 5 MP Fro...</td>\n",
       "      <td>2</td>\n",
       "      <td>11999</td>\n",
       "      <td>19</td>\n",
       "      <td>7</td>\n",
       "      <td>15.0</td>\n",
       "      <td>11</td>\n",
       "      <td>1</td>\n",
       "      <td>1</td>\n",
       "      <td>1</td>\n",
       "      <td>0</td>\n",
       "      <td>1</td>\n",
       "      <td>720.0</td>\n",
       "      <td>1600.0</td>\n",
       "    </tr>\n",
       "    <tr>\n",
       "      <th>4</th>\n",
       "      <td>5</td>\n",
       "      <td>4.40</td>\n",
       "      <td>75</td>\n",
       "      <td>12</td>\n",
       "      <td>5000</td>\n",
       "      <td>6.5</td>\n",
       "      <td>50 MP + 2 MP Dual Rear &amp;amp; 5 MP Front Camera</td>\n",
       "      <td>3</td>\n",
       "      <td>11990</td>\n",
       "      <td>19</td>\n",
       "      <td>1</td>\n",
       "      <td>15.0</td>\n",
       "      <td>11</td>\n",
       "      <td>1</td>\n",
       "      <td>1</td>\n",
       "      <td>1</td>\n",
       "      <td>1</td>\n",
       "      <td>1</td>\n",
       "      <td>720.0</td>\n",
       "      <td>1600.0</td>\n",
       "    </tr>\n",
       "  </tbody>\n",
       "</table>\n",
       "</div>"
      ],
      "text/plain": [
       "   Unnamed: 0  Rating  Spec_score  Ram  Battery  Display  \\\n",
       "0           0    4.65          68   10     6000      6.6   \n",
       "1           1    4.20          63    6     4000      6.4   \n",
       "2           2    4.30          75   10     5000      6.6   \n",
       "3           4    4.10          69   10     5000      6.5   \n",
       "4           5    4.40          75   12     5000      6.5   \n",
       "\n",
       "                                              Camera  Android_version  Price  \\\n",
       "0    50 MP + 2 MP Dual Rear &amp; 13 MP Front Camera                4   9999   \n",
       "1  13 MP + 5 MP + 2 MP Triple Rear &amp; 8 MP Fro...                0   9990   \n",
       "2            50 MP Quad Rear &amp; 8 MP Front Camera                3  11999   \n",
       "3  13 MP + 2 MP + 2 MP Triple Rear &amp; 5 MP Fro...                2  11999   \n",
       "4     50 MP + 2 MP Dual Rear &amp; 5 MP Front Camera                3  11990   \n",
       "\n",
       "   company  Inbuilt_memory  fast_charging  Processor  Dual Sim   3G   4G   5G  \\\n",
       "0       19               1           25.0         12         1    1    1    1   \n",
       "1       19               5           15.0          2         1    1    1    0   \n",
       "2       19               7           25.0          4         1    1    1    0   \n",
       "3       19               7           15.0         11         1    1    1    0   \n",
       "4       19               1           15.0         11         1    1    1    1   \n",
       "\n",
       "    VoLTE  Screen_resolution_length  Screen_resolution_width  \n",
       "0       1                    2408.0                   1080.0  \n",
       "1       1                     720.0                   1560.0  \n",
       "2       1                    1080.0                   2408.0  \n",
       "3       1                     720.0                   1600.0  \n",
       "4       1                     720.0                   1600.0  "
      ]
     },
     "execution_count": 66,
     "metadata": {},
     "output_type": "execute_result"
    }
   ],
   "source": [
    "df.head()"
   ]
  },
  {
   "cell_type": "code",
   "execution_count": 67,
   "id": "474073a9",
   "metadata": {},
   "outputs": [],
   "source": [
    "df['Battery'] = df['Battery']/1000\n",
    "df['Price'] = df['Price']/1000\n",
    "df['Screen_resolution_length'] = df['Screen_resolution_length']/1000\n",
    "df['Screen_resolution_width'] = df['Screen_resolution_width']/1000"
   ]
  },
  {
   "cell_type": "code",
   "execution_count": 68,
   "id": "599d4719",
   "metadata": {},
   "outputs": [],
   "source": [
    "df['Spec_score'] = df['Spec_score']/100"
   ]
  },
  {
   "cell_type": "code",
   "execution_count": 69,
   "id": "bd7b2263",
   "metadata": {},
   "outputs": [
    {
     "data": {
      "text/html": [
       "<div>\n",
       "<style scoped>\n",
       "    .dataframe tbody tr th:only-of-type {\n",
       "        vertical-align: middle;\n",
       "    }\n",
       "\n",
       "    .dataframe tbody tr th {\n",
       "        vertical-align: top;\n",
       "    }\n",
       "\n",
       "    .dataframe thead th {\n",
       "        text-align: right;\n",
       "    }\n",
       "</style>\n",
       "<table border=\"1\" class=\"dataframe\">\n",
       "  <thead>\n",
       "    <tr style=\"text-align: right;\">\n",
       "      <th></th>\n",
       "      <th>Unnamed: 0</th>\n",
       "      <th>Rating</th>\n",
       "      <th>Spec_score</th>\n",
       "      <th>Ram</th>\n",
       "      <th>Battery</th>\n",
       "      <th>Display</th>\n",
       "      <th>Camera</th>\n",
       "      <th>Android_version</th>\n",
       "      <th>Price</th>\n",
       "      <th>company</th>\n",
       "      <th>Inbuilt_memory</th>\n",
       "      <th>fast_charging</th>\n",
       "      <th>Processor</th>\n",
       "      <th>Dual Sim</th>\n",
       "      <th>3G</th>\n",
       "      <th>4G</th>\n",
       "      <th>5G</th>\n",
       "      <th>VoLTE</th>\n",
       "      <th>Screen_resolution_length</th>\n",
       "      <th>Screen_resolution_width</th>\n",
       "    </tr>\n",
       "  </thead>\n",
       "  <tbody>\n",
       "    <tr>\n",
       "      <th>0</th>\n",
       "      <td>0</td>\n",
       "      <td>4.65</td>\n",
       "      <td>0.68</td>\n",
       "      <td>10</td>\n",
       "      <td>6.0</td>\n",
       "      <td>6.6</td>\n",
       "      <td>50 MP + 2 MP Dual Rear &amp;amp; 13 MP Front Camera</td>\n",
       "      <td>4</td>\n",
       "      <td>9.999</td>\n",
       "      <td>19</td>\n",
       "      <td>1</td>\n",
       "      <td>25.0</td>\n",
       "      <td>12</td>\n",
       "      <td>1</td>\n",
       "      <td>1</td>\n",
       "      <td>1</td>\n",
       "      <td>1</td>\n",
       "      <td>1</td>\n",
       "      <td>2.408</td>\n",
       "      <td>1.080</td>\n",
       "    </tr>\n",
       "    <tr>\n",
       "      <th>1</th>\n",
       "      <td>1</td>\n",
       "      <td>4.20</td>\n",
       "      <td>0.63</td>\n",
       "      <td>6</td>\n",
       "      <td>4.0</td>\n",
       "      <td>6.4</td>\n",
       "      <td>13 MP + 5 MP + 2 MP Triple Rear &amp;amp; 8 MP Fro...</td>\n",
       "      <td>0</td>\n",
       "      <td>9.990</td>\n",
       "      <td>19</td>\n",
       "      <td>5</td>\n",
       "      <td>15.0</td>\n",
       "      <td>2</td>\n",
       "      <td>1</td>\n",
       "      <td>1</td>\n",
       "      <td>1</td>\n",
       "      <td>0</td>\n",
       "      <td>1</td>\n",
       "      <td>0.720</td>\n",
       "      <td>1.560</td>\n",
       "    </tr>\n",
       "    <tr>\n",
       "      <th>2</th>\n",
       "      <td>2</td>\n",
       "      <td>4.30</td>\n",
       "      <td>0.75</td>\n",
       "      <td>10</td>\n",
       "      <td>5.0</td>\n",
       "      <td>6.6</td>\n",
       "      <td>50 MP Quad Rear &amp;amp; 8 MP Front Camera</td>\n",
       "      <td>3</td>\n",
       "      <td>11.999</td>\n",
       "      <td>19</td>\n",
       "      <td>7</td>\n",
       "      <td>25.0</td>\n",
       "      <td>4</td>\n",
       "      <td>1</td>\n",
       "      <td>1</td>\n",
       "      <td>1</td>\n",
       "      <td>0</td>\n",
       "      <td>1</td>\n",
       "      <td>1.080</td>\n",
       "      <td>2.408</td>\n",
       "    </tr>\n",
       "    <tr>\n",
       "      <th>3</th>\n",
       "      <td>4</td>\n",
       "      <td>4.10</td>\n",
       "      <td>0.69</td>\n",
       "      <td>10</td>\n",
       "      <td>5.0</td>\n",
       "      <td>6.5</td>\n",
       "      <td>13 MP + 2 MP + 2 MP Triple Rear &amp;amp; 5 MP Fro...</td>\n",
       "      <td>2</td>\n",
       "      <td>11.999</td>\n",
       "      <td>19</td>\n",
       "      <td>7</td>\n",
       "      <td>15.0</td>\n",
       "      <td>11</td>\n",
       "      <td>1</td>\n",
       "      <td>1</td>\n",
       "      <td>1</td>\n",
       "      <td>0</td>\n",
       "      <td>1</td>\n",
       "      <td>0.720</td>\n",
       "      <td>1.600</td>\n",
       "    </tr>\n",
       "    <tr>\n",
       "      <th>4</th>\n",
       "      <td>5</td>\n",
       "      <td>4.40</td>\n",
       "      <td>0.75</td>\n",
       "      <td>12</td>\n",
       "      <td>5.0</td>\n",
       "      <td>6.5</td>\n",
       "      <td>50 MP + 2 MP Dual Rear &amp;amp; 5 MP Front Camera</td>\n",
       "      <td>3</td>\n",
       "      <td>11.990</td>\n",
       "      <td>19</td>\n",
       "      <td>1</td>\n",
       "      <td>15.0</td>\n",
       "      <td>11</td>\n",
       "      <td>1</td>\n",
       "      <td>1</td>\n",
       "      <td>1</td>\n",
       "      <td>1</td>\n",
       "      <td>1</td>\n",
       "      <td>0.720</td>\n",
       "      <td>1.600</td>\n",
       "    </tr>\n",
       "  </tbody>\n",
       "</table>\n",
       "</div>"
      ],
      "text/plain": [
       "   Unnamed: 0  Rating  Spec_score  Ram  Battery  Display  \\\n",
       "0           0    4.65        0.68   10      6.0      6.6   \n",
       "1           1    4.20        0.63    6      4.0      6.4   \n",
       "2           2    4.30        0.75   10      5.0      6.6   \n",
       "3           4    4.10        0.69   10      5.0      6.5   \n",
       "4           5    4.40        0.75   12      5.0      6.5   \n",
       "\n",
       "                                              Camera  Android_version   Price  \\\n",
       "0    50 MP + 2 MP Dual Rear &amp; 13 MP Front Camera                4   9.999   \n",
       "1  13 MP + 5 MP + 2 MP Triple Rear &amp; 8 MP Fro...                0   9.990   \n",
       "2            50 MP Quad Rear &amp; 8 MP Front Camera                3  11.999   \n",
       "3  13 MP + 2 MP + 2 MP Triple Rear &amp; 5 MP Fro...                2  11.999   \n",
       "4     50 MP + 2 MP Dual Rear &amp; 5 MP Front Camera                3  11.990   \n",
       "\n",
       "   company  Inbuilt_memory  fast_charging  Processor  Dual Sim   3G   4G   5G  \\\n",
       "0       19               1           25.0         12         1    1    1    1   \n",
       "1       19               5           15.0          2         1    1    1    0   \n",
       "2       19               7           25.0          4         1    1    1    0   \n",
       "3       19               7           15.0         11         1    1    1    0   \n",
       "4       19               1           15.0         11         1    1    1    1   \n",
       "\n",
       "    VoLTE  Screen_resolution_length  Screen_resolution_width  \n",
       "0       1                     2.408                    1.080  \n",
       "1       1                     0.720                    1.560  \n",
       "2       1                     1.080                    2.408  \n",
       "3       1                     0.720                    1.600  \n",
       "4       1                     0.720                    1.600  "
      ]
     },
     "execution_count": 69,
     "metadata": {},
     "output_type": "execute_result"
    }
   ],
   "source": [
    "df.head()"
   ]
  },
  {
   "cell_type": "code",
   "execution_count": 70,
   "id": "37724a51",
   "metadata": {},
   "outputs": [],
   "source": [
    "y = df['Price']"
   ]
  },
  {
   "cell_type": "code",
   "execution_count": 71,
   "id": "9ad17bb0",
   "metadata": {},
   "outputs": [
    {
     "data": {
      "text/plain": [
       "<matplotlib.collections.PathCollection at 0x1b0925d3580>"
      ]
     },
     "execution_count": 71,
     "metadata": {},
     "output_type": "execute_result"
    },
    {
     "data": {
      "image/png": "[encoded data removed]",
      "text/plain": [
       "<Figure size 432x288 with 1 Axes>"
      ]
     },
     "metadata": {
      "needs_background": "light"
     },
     "output_type": "display_data"
    }
   ],
   "source": [
    "plt.scatter(y,df['Dual Sim'])"
   ]
  },
  {
   "cell_type": "code",
   "execution_count": 72,
   "id": "1ba30a76",
   "metadata": {},
   "outputs": [
    {
     "data": {
      "text/plain": [
       "Index(['Unnamed: 0', 'Rating', 'Spec_score', 'Ram', 'Battery', 'Display',\n",
       "       'Camera', 'Android_version', 'Price', 'company', 'Inbuilt_memory',\n",
       "       'fast_charging', 'Processor', 'Dual Sim', ' 3G', ' 4G', ' 5G', ' VoLTE',\n",
       "       'Screen_resolution_length', 'Screen_resolution_width'],\n",
       "      dtype='object')"
      ]
     },
     "execution_count": 72,
     "metadata": {},
     "output_type": "execute_result"
    }
   ],
   "source": [
    "columns = df.columns\n",
    "columns"
   ]
  },
  {
   "cell_type": "code",
   "execution_count": 73,
   "id": "3111f98a",
   "metadata": {},
   "outputs": [
    {
     "data": {
      "text/plain": [
       "<matplotlib.collections.PathCollection at 0x1b092618f10>"
      ]
     },
     "execution_count": 73,
     "metadata": {},
     "output_type": "execute_result"
    },
    {
     "data": {
      "image/png": "[encoded data removed]",
      "text/plain": [
       "<Figure size 432x288 with 1 Axes>"
      ]
     },
     "metadata": {
      "needs_background": "light"
     },
     "output_type": "display_data"
    }
   ],
   "source": [
    "plt.scatter(y,df[' 3G'])"
   ]
  },
  {
   "cell_type": "code",
   "execution_count": 74,
   "id": "413b7919",
   "metadata": {},
   "outputs": [
    {
     "data": {
      "text/plain": [
       "<matplotlib.collections.PathCollection at 0x1b0893d62e0>"
      ]
     },
     "execution_count": 74,
     "metadata": {},
     "output_type": "execute_result"
    },
    {
     "data": {
      "image/png": "[encoded data removed]",
      "text/plain": [
       "<Figure size 432x288 with 1 Axes>"
      ]
     },
     "metadata": {
      "needs_background": "light"
     },
     "output_type": "display_data"
    }
   ],
   "source": [
    "plt.scatter(y,df[' 4G'])"
   ]
  },
  {
   "cell_type": "code",
   "execution_count": 75,
   "id": "11004378",
   "metadata": {},
   "outputs": [
    {
     "data": {
      "text/plain": [
       "<matplotlib.collections.PathCollection at 0x1b0926b9760>"
      ]
     },
     "execution_count": 75,
     "metadata": {},
     "output_type": "execute_result"
    },
    {
     "data": {
      "image/png": "[encoded data removed]",
      "text/plain": [
       "<Figure size 432x288 with 1 Axes>"
      ]
     },
     "metadata": {
      "needs_background": "light"
     },
     "output_type": "display_data"
    }
   ],
   "source": [
    "plt.scatter(y,df[' 5G'])"
   ]
  },
  {
   "cell_type": "code",
   "execution_count": 76,
   "id": "1842c64a",
   "metadata": {},
   "outputs": [
    {
     "data": {
      "text/plain": [
       "<matplotlib.collections.PathCollection at 0x1b09275a340>"
      ]
     },
     "execution_count": 76,
     "metadata": {},
     "output_type": "execute_result"
    },
    {
     "data": {
      "image/png": "[encoded data removed]",
      "text/plain": [
       "<Figure size 432x288 with 1 Axes>"
      ]
     },
     "metadata": {
      "needs_background": "light"
     },
     "output_type": "display_data"
    }
   ],
   "source": [
    "plt.scatter(y,df[' VoLTE'])"
   ]
  },
  {
   "cell_type": "code",
   "execution_count": 77,
   "id": "24cc8dfd",
   "metadata": {},
   "outputs": [
    {
     "data": {
      "text/plain": [
       "<matplotlib.collections.PathCollection at 0x1b0927bd9d0>"
      ]
     },
     "execution_count": 77,
     "metadata": {},
     "output_type": "execute_result"
    },
    {
     "data": {
      "image/png": "[encoded data removed]",
      "text/plain": [
       "<Figure size 432x288 with 1 Axes>"
      ]
     },
     "metadata": {
      "needs_background": "light"
     },
     "output_type": "display_data"
    }
   ],
   "source": [
    "plt.scatter(df['Spec_score'],y)"
   ]
  },
  {
   "cell_type": "code",
   "execution_count": null,
   "id": "9e2f8290",
   "metadata": {},
   "outputs": [],
   "source": []
  },
  {
   "cell_type": "code",
   "execution_count": 78,
   "id": "c8ae2ba6",
   "metadata": {},
   "outputs": [],
   "source": [
    "df.drop(' 3G',inplace=True,axis=1)"
   ]
  },
  {
   "cell_type": "code",
   "execution_count": 79,
   "id": "0c0faddd",
   "metadata": {},
   "outputs": [],
   "source": [
    "df.drop(' 4G',inplace=True,axis=1)"
   ]
  },
  {
   "cell_type": "code",
   "execution_count": 80,
   "id": "3109a9fb",
   "metadata": {
    "scrolled": true
   },
   "outputs": [
    {
     "name": "stderr",
     "output_type": "stream",
     "text": [
      "[nltk_data] Downloading package punkt to\n",
      "[nltk_data]     C:\\Users\\mitta\\AppData\\Roaming\\nltk_data...\n",
      "[nltk_data]   Package punkt is already up-to-date!\n"
     ]
    },
    {
     "data": {
      "text/plain": [
       "True"
      ]
     },
     "execution_count": 80,
     "metadata": {},
     "output_type": "execute_result"
    }
   ],
   "source": [
    "import nltk\n",
    "nltk.download('punkt')"
   ]
  },
  {
   "cell_type": "code",
   "execution_count": 81,
   "id": "007455ec",
   "metadata": {},
   "outputs": [],
   "source": [
    "df = df.reset_index(drop=True)"
   ]
  },
  {
   "cell_type": "code",
   "execution_count": 82,
   "id": "4980f929",
   "metadata": {},
   "outputs": [],
   "source": [
    "#df['External_Memory'][3]"
   ]
  },
  {
   "cell_type": "code",
   "execution_count": 83,
   "id": "0ddc34a3",
   "metadata": {},
   "outputs": [],
   "source": [
    "#df= df.drop('External_Memory',axis=1)"
   ]
  },
  {
   "cell_type": "code",
   "execution_count": 84,
   "id": "9f21b5fa",
   "metadata": {},
   "outputs": [],
   "source": [
    "#m,n = df.shape"
   ]
  },
  {
   "cell_type": "code",
   "execution_count": 85,
   "id": "7deb70f6",
   "metadata": {},
   "outputs": [],
   "source": [
    "#df['Camera']"
   ]
  },
  {
   "cell_type": "code",
   "execution_count": 86,
   "id": "8608556c",
   "metadata": {},
   "outputs": [],
   "source": [
    "#df['sr_camera_combined'] = 0"
   ]
  },
  {
   "cell_type": "code",
   "execution_count": null,
   "id": "195e87d5",
   "metadata": {},
   "outputs": [],
   "source": []
  },
  {
   "cell_type": "code",
   "execution_count": 87,
   "id": "d53c1592",
   "metadata": {},
   "outputs": [
    {
     "data": {
      "text/plain": [
       "'for i in range(m):\\n    df[\\'Screen_resolution\\'][i]=df[\\'Screen_resolution\\'][i].split(\"with\")\\n    df[\\'Camera\\'][i]=df[\\'Camera\\'][i].split(\";\")\\n    df[\\'sr_camera_combined\\'][i] =  df[\\'Camera\\'][i] + df[\\'Screen_resolution\\'][i]\\n    df[\\'sr_camera_combined\\'][i] =df[\\'sr_camera_combined\\'][i]\\n    df[\\'sr_camera_combined\\'][i] = \\' \\'.join(df[\\'sr_camera_combined\\'][i])\\n    #for j in range(len(df[\\'Screen_resolution\\'][i])):\\n     #   if df[\\'Screen_resolution\\'][i][j] not in lis:\\n      #      lis.append(df[\\'Screen_resolution\\'][i][j])\\n  '"
      ]
     },
     "execution_count": 87,
     "metadata": {},
     "output_type": "execute_result"
    }
   ],
   "source": [
    "#lis = []\n",
    "\n",
    "'''for i in range(m):\n",
    "    df['Screen_resolution'][i]=df['Screen_resolution'][i].split(\"with\")\n",
    "    df['Camera'][i]=df['Camera'][i].split(\";\")\n",
    "    df['sr_camera_combined'][i] =  df['Camera'][i] + df['Screen_resolution'][i]\n",
    "    df['sr_camera_combined'][i] =df['sr_camera_combined'][i]\n",
    "    df['sr_camera_combined'][i] = ' '.join(df['sr_camera_combined'][i])\n",
    "    #for j in range(len(df['Screen_resolution'][i])):\n",
    "     #   if df['Screen_resolution'][i][j] not in lis:\n",
    "      #      lis.append(df['Screen_resolution'][i][j])\n",
    "  '''  \n"
   ]
  },
  {
   "cell_type": "code",
   "execution_count": 88,
   "id": "80001cb5",
   "metadata": {},
   "outputs": [],
   "source": [
    "#type(df['sr_camera_combined'][0])"
   ]
  },
  {
   "cell_type": "code",
   "execution_count": 89,
   "id": "4e18c826",
   "metadata": {},
   "outputs": [],
   "source": [
    "#df.head()"
   ]
  },
  {
   "cell_type": "code",
   "execution_count": 90,
   "id": "421dcae5",
   "metadata": {},
   "outputs": [],
   "source": [
    "import string\n",
    "from nltk.corpus import stopwords\n",
    "from nltk.stem.porter import PorterStemmer\n",
    "ps = PorterStemmer()\n",
    "def transform_text(text):\n",
    "    text = text.lower()\n",
    "    text = nltk.word_tokenize(text)\n",
    "    y =[]\n",
    "    for i in text:\n",
    "        if i.isalnum():\n",
    "            if not i.isdigit():\n",
    "                y.append(i)\n",
    "        \n",
    "    text = y[:]\n",
    "    y.clear()\n",
    "    for i in text:\n",
    "        if i not in stopwords.words('english') and i not in string.punctuation:\n",
    "            y.append(i)\n",
    "    text = y[:]\n",
    "    y.clear()\n",
    "    for i in text:\n",
    "        y.append(ps.stem(i))\n",
    "    return ' '.join(y)"
   ]
  },
  {
   "cell_type": "code",
   "execution_count": 91,
   "id": "897a757d",
   "metadata": {},
   "outputs": [],
   "source": [
    "df['transformed_text']=df['Camera'].apply(transform_text)"
   ]
  },
  {
   "cell_type": "code",
   "execution_count": null,
   "id": "a1716743",
   "metadata": {},
   "outputs": [],
   "source": [
    "#df = df.drop('sr_camera_combined',axis=1)"
   ]
  },
  {
   "cell_type": "code",
   "execution_count": 92,
   "id": "62358fb3",
   "metadata": {},
   "outputs": [
    {
     "data": {
      "text/plain": [
       "(1241, 18)"
      ]
     },
     "execution_count": 92,
     "metadata": {},
     "output_type": "execute_result"
    }
   ],
   "source": [
    "from sklearn.feature_extraction.text import CountVectorizer,TfidfVectorizer\n",
    "cv = CountVectorizer()\n",
    "\n",
    "\n",
    "X = cv.fit_transform(df['transformed_text']).toarray()\n",
    "X.shape\n",
    "\n"
   ]
  },
  {
   "cell_type": "code",
   "execution_count": 93,
   "id": "72b53dde",
   "metadata": {},
   "outputs": [],
   "source": [
    "y = df['Price']"
   ]
  },
  {
   "cell_type": "code",
   "execution_count": 98,
   "id": "d5291baf",
   "metadata": {},
   "outputs": [
    {
     "data": {
      "text/plain": [
       "(1241,)"
      ]
     },
     "execution_count": 98,
     "metadata": {},
     "output_type": "execute_result"
    }
   ],
   "source": [
    "y.shape"
   ]
  },
  {
   "cell_type": "code",
   "execution_count": 103,
   "id": "2f572dad",
   "metadata": {
    "scrolled": false
   },
   "outputs": [
    {
     "data": {
      "text/plain": [
       "(18,)"
      ]
     },
     "execution_count": 103,
     "metadata": {},
     "output_type": "execute_result"
    }
   ],
   "source": [
    "X[0][:].shape"
   ]
  },
  {
   "cell_type": "code",
   "execution_count": 99,
   "id": "cd4df85d",
   "metadata": {},
   "outputs": [
    {
     "ename": "ValueError",
     "evalue": "x and y must be the same size",
     "output_type": "error",
     "traceback": [
      "\u001b[1;31m---------------------------------------------------------------------------\u001b[0m",
      "\u001b[1;31mValueError\u001b[0m                                Traceback (most recent call last)",
      "Input \u001b[1;32mIn [99]\u001b[0m, in \u001b[0;36m<cell line: 1>\u001b[1;34m()\u001b[0m\n\u001b[1;32m----> 1\u001b[0m \u001b[43mplt\u001b[49m\u001b[38;5;241;43m.\u001b[39;49m\u001b[43mscatter\u001b[49m\u001b[43m(\u001b[49m\u001b[43mX\u001b[49m\u001b[43m[\u001b[49m\u001b[43m:\u001b[49m\u001b[43m]\u001b[49m\u001b[43m[\u001b[49m\u001b[38;5;241;43m0\u001b[39;49m\u001b[43m]\u001b[49m\u001b[43m,\u001b[49m\u001b[43my\u001b[49m\u001b[43m)\u001b[49m\n",
      "File \u001b[1;32m~\\anaconda3\\lib\\site-packages\\matplotlib\\pyplot.py:2807\u001b[0m, in \u001b[0;36mscatter\u001b[1;34m(x, y, s, c, marker, cmap, norm, vmin, vmax, alpha, linewidths, edgecolors, plotnonfinite, data, **kwargs)\u001b[0m\n\u001b[0;32m   2802\u001b[0m \u001b[38;5;129m@_copy_docstring_and_deprecators\u001b[39m(Axes\u001b[38;5;241m.\u001b[39mscatter)\n\u001b[0;32m   2803\u001b[0m \u001b[38;5;28;01mdef\u001b[39;00m \u001b[38;5;21mscatter\u001b[39m(\n\u001b[0;32m   2804\u001b[0m         x, y, s\u001b[38;5;241m=\u001b[39m\u001b[38;5;28;01mNone\u001b[39;00m, c\u001b[38;5;241m=\u001b[39m\u001b[38;5;28;01mNone\u001b[39;00m, marker\u001b[38;5;241m=\u001b[39m\u001b[38;5;28;01mNone\u001b[39;00m, cmap\u001b[38;5;241m=\u001b[39m\u001b[38;5;28;01mNone\u001b[39;00m, norm\u001b[38;5;241m=\u001b[39m\u001b[38;5;28;01mNone\u001b[39;00m,\n\u001b[0;32m   2805\u001b[0m         vmin\u001b[38;5;241m=\u001b[39m\u001b[38;5;28;01mNone\u001b[39;00m, vmax\u001b[38;5;241m=\u001b[39m\u001b[38;5;28;01mNone\u001b[39;00m, alpha\u001b[38;5;241m=\u001b[39m\u001b[38;5;28;01mNone\u001b[39;00m, linewidths\u001b[38;5;241m=\u001b[39m\u001b[38;5;28;01mNone\u001b[39;00m, \u001b[38;5;241m*\u001b[39m,\n\u001b[0;32m   2806\u001b[0m         edgecolors\u001b[38;5;241m=\u001b[39m\u001b[38;5;28;01mNone\u001b[39;00m, plotnonfinite\u001b[38;5;241m=\u001b[39m\u001b[38;5;28;01mFalse\u001b[39;00m, data\u001b[38;5;241m=\u001b[39m\u001b[38;5;28;01mNone\u001b[39;00m, \u001b[38;5;241m*\u001b[39m\u001b[38;5;241m*\u001b[39mkwargs):\n\u001b[1;32m-> 2807\u001b[0m     __ret \u001b[38;5;241m=\u001b[39m gca()\u001b[38;5;241m.\u001b[39mscatter(\n\u001b[0;32m   2808\u001b[0m         x, y, s\u001b[38;5;241m=\u001b[39ms, c\u001b[38;5;241m=\u001b[39mc, marker\u001b[38;5;241m=\u001b[39mmarker, cmap\u001b[38;5;241m=\u001b[39mcmap, norm\u001b[38;5;241m=\u001b[39mnorm,\n\u001b[0;32m   2809\u001b[0m         vmin\u001b[38;5;241m=\u001b[39mvmin, vmax\u001b[38;5;241m=\u001b[39mvmax, alpha\u001b[38;5;241m=\u001b[39malpha, linewidths\u001b[38;5;241m=\u001b[39mlinewidths,\n\u001b[0;32m   2810\u001b[0m         edgecolors\u001b[38;5;241m=\u001b[39medgecolors, plotnonfinite\u001b[38;5;241m=\u001b[39mplotnonfinite,\n\u001b[0;32m   2811\u001b[0m         \u001b[38;5;241m*\u001b[39m\u001b[38;5;241m*\u001b[39m({\u001b[38;5;124m\"\u001b[39m\u001b[38;5;124mdata\u001b[39m\u001b[38;5;124m\"\u001b[39m: data} \u001b[38;5;28;01mif\u001b[39;00m data \u001b[38;5;129;01mis\u001b[39;00m \u001b[38;5;129;01mnot\u001b[39;00m \u001b[38;5;28;01mNone\u001b[39;00m \u001b[38;5;28;01melse\u001b[39;00m {}), \u001b[38;5;241m*\u001b[39m\u001b[38;5;241m*\u001b[39mkwargs)\n\u001b[0;32m   2812\u001b[0m     sci(__ret)\n\u001b[0;32m   2813\u001b[0m     \u001b[38;5;28;01mreturn\u001b[39;00m __ret\n",
      "File \u001b[1;32m~\\anaconda3\\lib\\site-packages\\matplotlib\\__init__.py:1412\u001b[0m, in \u001b[0;36m_preprocess_data.<locals>.inner\u001b[1;34m(ax, data, *args, **kwargs)\u001b[0m\n\u001b[0;32m   1409\u001b[0m \u001b[38;5;129m@functools\u001b[39m\u001b[38;5;241m.\u001b[39mwraps(func)\n\u001b[0;32m   1410\u001b[0m \u001b[38;5;28;01mdef\u001b[39;00m \u001b[38;5;21minner\u001b[39m(ax, \u001b[38;5;241m*\u001b[39margs, data\u001b[38;5;241m=\u001b[39m\u001b[38;5;28;01mNone\u001b[39;00m, \u001b[38;5;241m*\u001b[39m\u001b[38;5;241m*\u001b[39mkwargs):\n\u001b[0;32m   1411\u001b[0m     \u001b[38;5;28;01mif\u001b[39;00m data \u001b[38;5;129;01mis\u001b[39;00m \u001b[38;5;28;01mNone\u001b[39;00m:\n\u001b[1;32m-> 1412\u001b[0m         \u001b[38;5;28;01mreturn\u001b[39;00m func(ax, \u001b[38;5;241m*\u001b[39m\u001b[38;5;28mmap\u001b[39m(sanitize_sequence, args), \u001b[38;5;241m*\u001b[39m\u001b[38;5;241m*\u001b[39mkwargs)\n\u001b[0;32m   1414\u001b[0m     bound \u001b[38;5;241m=\u001b[39m new_sig\u001b[38;5;241m.\u001b[39mbind(ax, \u001b[38;5;241m*\u001b[39margs, \u001b[38;5;241m*\u001b[39m\u001b[38;5;241m*\u001b[39mkwargs)\n\u001b[0;32m   1415\u001b[0m     auto_label \u001b[38;5;241m=\u001b[39m (bound\u001b[38;5;241m.\u001b[39marguments\u001b[38;5;241m.\u001b[39mget(label_namer)\n\u001b[0;32m   1416\u001b[0m                   \u001b[38;5;129;01mor\u001b[39;00m bound\u001b[38;5;241m.\u001b[39mkwargs\u001b[38;5;241m.\u001b[39mget(label_namer))\n",
      "File \u001b[1;32m~\\anaconda3\\lib\\site-packages\\matplotlib\\axes\\_axes.py:4369\u001b[0m, in \u001b[0;36mAxes.scatter\u001b[1;34m(self, x, y, s, c, marker, cmap, norm, vmin, vmax, alpha, linewidths, edgecolors, plotnonfinite, **kwargs)\u001b[0m\n\u001b[0;32m   4367\u001b[0m y \u001b[38;5;241m=\u001b[39m np\u001b[38;5;241m.\u001b[39mma\u001b[38;5;241m.\u001b[39mravel(y)\n\u001b[0;32m   4368\u001b[0m \u001b[38;5;28;01mif\u001b[39;00m x\u001b[38;5;241m.\u001b[39msize \u001b[38;5;241m!=\u001b[39m y\u001b[38;5;241m.\u001b[39msize:\n\u001b[1;32m-> 4369\u001b[0m     \u001b[38;5;28;01mraise\u001b[39;00m \u001b[38;5;167;01mValueError\u001b[39;00m(\u001b[38;5;124m\"\u001b[39m\u001b[38;5;124mx and y must be the same size\u001b[39m\u001b[38;5;124m\"\u001b[39m)\n\u001b[0;32m   4371\u001b[0m \u001b[38;5;28;01mif\u001b[39;00m s \u001b[38;5;129;01mis\u001b[39;00m \u001b[38;5;28;01mNone\u001b[39;00m:\n\u001b[0;32m   4372\u001b[0m     s \u001b[38;5;241m=\u001b[39m (\u001b[38;5;241m20\u001b[39m \u001b[38;5;28;01mif\u001b[39;00m rcParams[\u001b[38;5;124m'\u001b[39m\u001b[38;5;124m_internal.classic_mode\u001b[39m\u001b[38;5;124m'\u001b[39m] \u001b[38;5;28;01melse\u001b[39;00m\n\u001b[0;32m   4373\u001b[0m          rcParams[\u001b[38;5;124m'\u001b[39m\u001b[38;5;124mlines.markersize\u001b[39m\u001b[38;5;124m'\u001b[39m] \u001b[38;5;241m*\u001b[39m\u001b[38;5;241m*\u001b[39m \u001b[38;5;241m2.0\u001b[39m)\n",
      "\u001b[1;31mValueError\u001b[0m: x and y must be the same size"
     ]
    },
    {
     "data": {
      "image/png": "[encoded data removed]",
      "text/plain": [
       "<Figure size 432x288 with 1 Axes>"
      ]
     },
     "metadata": {
      "needs_background": "light"
     },
     "output_type": "display_data"
    }
   ],
   "source": []
  },
  {
   "cell_type": "code",
   "execution_count": 104,
   "id": "922c89e3",
   "metadata": {},
   "outputs": [],
   "source": [
    "new_columns_df = pd.DataFrame(X)"
   ]
  },
  {
   "cell_type": "code",
   "execution_count": 106,
   "id": "e540a232",
   "metadata": {},
   "outputs": [
    {
     "data": {
      "text/plain": [
       "0       0\n",
       "1       0\n",
       "2       0\n",
       "3       0\n",
       "4       0\n",
       "       ..\n",
       "1236    0\n",
       "1237    0\n",
       "1238    0\n",
       "1239    0\n",
       "1240    0\n",
       "Name: 0, Length: 1241, dtype: int64"
      ]
     },
     "execution_count": 106,
     "metadata": {},
     "output_type": "execute_result"
    }
   ],
   "source": []
  },
  {
   "cell_type": "code",
   "execution_count": 108,
   "id": "98a6ebf9",
   "metadata": {},
   "outputs": [],
   "source": [
    "k,l = new_columns_df.shape"
   ]
  },
  {
   "cell_type": "code",
   "execution_count": 110,
   "id": "67bb5851",
   "metadata": {},
   "outputs": [
    {
     "data": {
      "text/plain": [
       "18"
      ]
     },
     "execution_count": 110,
     "metadata": {},
     "output_type": "execute_result"
    }
   ],
   "source": [
    "l"
   ]
  },
  {
   "cell_type": "code",
   "execution_count": 115,
   "id": "5746a696",
   "metadata": {},
   "outputs": [
    {
     "data": {
      "image/png": "[encoded data removed]",
      "text/plain": [
       "<Figure size 1080x1080 with 18 Axes>"
      ]
     },
     "metadata": {
      "needs_background": "light"
     },
     "output_type": "display_data"
    }
   ],
   "source": [
    "plt.figure(figsize=(15,15))\n",
    "for i in range(l):\n",
    "    plt.subplot(6,3, i+1)\n",
    "    plt.scatter(new_columns_df[0],y)"
   ]
  },
  {
   "cell_type": "code",
   "execution_count": null,
   "id": "ebe92c46",
   "metadata": {},
   "outputs": [],
   "source": []
  },
  {
   "cell_type": "code",
   "execution_count": null,
   "id": "a2049ba2",
   "metadata": {},
   "outputs": [],
   "source": [
    "#df = pd.concat([df,new_columns_df], axis=1)"
   ]
  },
  {
   "cell_type": "code",
   "execution_count": 116,
   "id": "dc6a8207",
   "metadata": {},
   "outputs": [],
   "source": [
    "y = df['Price']\n",
    "df.drop('Price',inplace=True,axis=1)"
   ]
  },
  {
   "cell_type": "code",
   "execution_count": 117,
   "id": "27efce50",
   "metadata": {},
   "outputs": [],
   "source": [
    "X = df"
   ]
  },
  {
   "cell_type": "code",
   "execution_count": 118,
   "id": "cfd61be6",
   "metadata": {},
   "outputs": [
    {
     "data": {
      "text/plain": [
       "0         9.999\n",
       "1         9.990\n",
       "2        11.999\n",
       "3        11.999\n",
       "4        11.990\n",
       "         ...   \n",
       "1236     18.999\n",
       "1237     24.990\n",
       "1238     23.990\n",
       "1239     22.499\n",
       "1240    119.990\n",
       "Name: Price, Length: 1241, dtype: float64"
      ]
     },
     "execution_count": 118,
     "metadata": {},
     "output_type": "execute_result"
    }
   ],
   "source": [
    "y"
   ]
  },
  {
   "cell_type": "code",
   "execution_count": 119,
   "id": "031e70df",
   "metadata": {},
   "outputs": [
    {
     "data": {
      "text/plain": [
       "pandas.core.frame.DataFrame"
      ]
     },
     "execution_count": 119,
     "metadata": {},
     "output_type": "execute_result"
    }
   ],
   "source": [
    "type(X)"
   ]
  },
  {
   "cell_type": "code",
   "execution_count": 120,
   "id": "514001e5",
   "metadata": {},
   "outputs": [],
   "source": [
    "df.drop('Camera',inplace=True,axis=1)\n",
    "df.drop('transformed_text',axis=1,inplace= True)"
   ]
  },
  {
   "cell_type": "code",
   "execution_count": 121,
   "id": "9df1b993",
   "metadata": {},
   "outputs": [],
   "source": [
    "X = df"
   ]
  },
  {
   "cell_type": "code",
   "execution_count": 122,
   "id": "ec10a855",
   "metadata": {},
   "outputs": [],
   "source": [
    "from sklearn.model_selection import train_test_split\n",
    "\n",
    "X_train ,X_test,y_train,y_test = train_test_split(X,y,test_size=0.2)"
   ]
  },
  {
   "cell_type": "code",
   "execution_count": 123,
   "id": "bf1d651f",
   "metadata": {},
   "outputs": [],
   "source": [
    "from sklearn.linear_model import LinearRegression,Ridge,Lasso\n",
    "from sklearn.metrics import r2_score,mean_absolute_error\n",
    "from sklearn.metrics import r2_score\n",
    "from sklearn.metrics import mean_absolute_error\n",
    "from sklearn.model_selection import cross_val_score"
   ]
  },
  {
   "cell_type": "code",
   "execution_count": 124,
   "id": "e450f3c6",
   "metadata": {},
   "outputs": [
    {
     "name": "stdout",
     "output_type": "stream",
     "text": [
      "R2_Score is : 0.5410446448565298\n",
      "Mean_Absolute_Error is : 12.069282979157665\n",
      "Cross validation score is: 0.651355110789307\n"
     ]
    }
   ],
   "source": [
    "Lr=LinearRegression()\n",
    "Lr.fit(X_train,y_train)\n",
    "\n",
    "y_pred=Lr.predict(X_test)\n",
    "\n",
    "print(\"R2_Score is :\",r2_score(y_pred,y_test))\n",
    "print(\"Mean_Absolute_Error is :\",mean_absolute_error(y_pred,y_test))\n",
    "\n",
    "x=cross_val_score(Lr,X_train,y_train,cv=10,scoring='r2')\n",
    "print('Cross validation score is:',x.mean())"
   ]
  },
  {
   "cell_type": "code",
   "execution_count": null,
   "id": "f1ea88ed",
   "metadata": {},
   "outputs": [],
   "source": []
  },
  {
   "cell_type": "code",
   "execution_count": 125,
   "id": "d6c33d64",
   "metadata": {},
   "outputs": [
    {
     "name": "stdout",
     "output_type": "stream",
     "text": [
      "R2_Score is : 0.5287450953775872\n",
      "Mean_Absolute_Error is : 11.918152795635482\n",
      "Cross validation score is: 0.6474651303612873\n"
     ]
    }
   ],
   "source": [
    "Rr=Ridge(alpha=0.5,max_iter=15000,tol=0.001)\n",
    "Rr.fit(X_train,y_train)\n",
    "\n",
    "y_pred=Rr.predict(X_test)\n",
    "\n",
    "print(\"R2_Score is :\",r2_score(y_pred,y_test))\n",
    "print(\"Mean_Absolute_Error is :\",mean_absolute_error(y_pred,y_test))\n",
    "\n",
    "x=cross_val_score(Rr,X_train,y_train,cv=10,scoring='r2')\n",
    "print('Cross validation score is:',x.mean())"
   ]
  },
  {
   "cell_type": "code",
   "execution_count": null,
   "id": "daefcb51",
   "metadata": {},
   "outputs": [],
   "source": []
  },
  {
   "cell_type": "code",
   "execution_count": 126,
   "id": "b1f4ef40",
   "metadata": {},
   "outputs": [
    {
     "name": "stdout",
     "output_type": "stream",
     "text": [
      "R2_Score is : 0.44690721677975975\n",
      "Mean_Absolute_Error is : 12.083152250529452\n",
      "Cross validation score is: 0.5910115706401208\n"
     ]
    }
   ],
   "source": [
    "Rr=Ridge(solver='lsqr', alpha=0.65,max_iter=150000,tol=0.0001)\n",
    "Rr.fit(X_train,y_train)\n",
    "\n",
    "y_pred=Rr.predict(X_test)\n",
    "\n",
    "print(\"R2_Score is :\",r2_score(y_pred,y_test))\n",
    "print(\"Mean_Absolute_Error is :\",mean_absolute_error(y_pred,y_test))\n",
    "\n",
    "x=cross_val_score(Rr,X_train,y_train,cv=10,scoring='r2')\n",
    "print('Cross validation score is:',x.mean())"
   ]
  },
  {
   "cell_type": "code",
   "execution_count": null,
   "id": "f98ae1d7",
   "metadata": {},
   "outputs": [],
   "source": []
  },
  {
   "cell_type": "code",
   "execution_count": null,
   "id": "594b8424",
   "metadata": {},
   "outputs": [],
   "source": []
  },
  {
   "cell_type": "code",
   "execution_count": null,
   "id": "fa08da33",
   "metadata": {},
   "outputs": [],
   "source": []
  },
  {
   "cell_type": "code",
   "execution_count": 127,
   "id": "63fb5d09",
   "metadata": {},
   "outputs": [
    {
     "name": "stdout",
     "output_type": "stream",
     "text": [
      "R2_Score is : 0.5410436782022865\n",
      "Mean_Absolute_Error is : 12.069242954066452\n",
      "Cross validation score is: 0.6513557265177681\n"
     ]
    }
   ],
   "source": [
    "Ls=Lasso(alpha=0.00001)\n",
    "Ls.fit(X_train,y_train)\n",
    "\n",
    "y_pred=Ls.predict(X_test)\n",
    "\n",
    "print(\"R2_Score is :\",r2_score(y_pred,y_test))\n",
    "print(\"Mean_Absolute_Error is :\",mean_absolute_error(y_pred,y_test))\n",
    "\n",
    "x=cross_val_score(Ls,X_train,y_train,cv=10,scoring='r2')\n",
    "print('Cross validation score is:',x.mean())"
   ]
  },
  {
   "cell_type": "code",
   "execution_count": null,
   "id": "702e45b2",
   "metadata": {},
   "outputs": [],
   "source": []
  },
  {
   "cell_type": "code",
   "execution_count": 128,
   "id": "89d5ad7b",
   "metadata": {},
   "outputs": [],
   "source": [
    "from sklearn.tree import DecisionTreeRegressor"
   ]
  },
  {
   "cell_type": "code",
   "execution_count": null,
   "id": "41b694f0",
   "metadata": {},
   "outputs": [],
   "source": []
  },
  {
   "cell_type": "code",
   "execution_count": 129,
   "id": "3863ea48",
   "metadata": {},
   "outputs": [
    {
     "name": "stdout",
     "output_type": "stream",
     "text": [
      "R2_Score is : 0.7676716864277372\n",
      "Mean_Absolute_Error is : 7.7284691990255645\n",
      "Cross validation score is: 0.7337094118325648\n"
     ]
    }
   ],
   "source": [
    "Dr=DecisionTreeRegressor(min_samples_split=25)\n",
    "Dr.fit(X_train,y_train)\n",
    "\n",
    "y_pred=Dr.predict(X_test)\n",
    "\n",
    "print(\"R2_Score is :\",r2_score(y_pred,y_test))\n",
    "print(\"Mean_Absolute_Error is :\",mean_absolute_error(y_pred,y_test))\n",
    "\n",
    "x=cross_val_score(Dr,X_train,y_train,cv=10,scoring='r2')\n",
    "print('Cross validation score is:',x.mean())"
   ]
  },
  {
   "cell_type": "code",
   "execution_count": null,
   "id": "9e60d6c6",
   "metadata": {},
   "outputs": [],
   "source": []
  },
  {
   "cell_type": "code",
   "execution_count": 130,
   "id": "8c710433",
   "metadata": {},
   "outputs": [],
   "source": [
    "estimator=[('lr',Lr),('dr',Dr),('rr',Rr),('ls',Ls)]\n",
    "from sklearn.ensemble import VotingRegressor"
   ]
  },
  {
   "cell_type": "code",
   "execution_count": 131,
   "id": "2a8d5e6c",
   "metadata": {},
   "outputs": [
    {
     "name": "stdout",
     "output_type": "stream",
     "text": [
      "R2_Score is : 0.6456041337847997\n",
      "Mean_Absolute_Error is : 9.934010588000085\n",
      "Cross validation score is: 0.7276792771774634\n"
     ]
    }
   ],
   "source": [
    "vr=VotingRegressor(estimators=estimator)\n",
    "vr.fit(X_train,y_train)\n",
    "\n",
    "y_pred=vr.predict(X_test)\n",
    "\n",
    "print(\"R2_Score is :\",r2_score(y_pred,y_test))\n",
    "print(\"Mean_Absolute_Error is :\",mean_absolute_error(y_pred,y_test))\n",
    "\n",
    "x=cross_val_score(vr,X_train,y_train,cv=10,scoring='r2')\n",
    "print('Cross validation score is:',x.mean())"
   ]
  },
  {
   "cell_type": "code",
   "execution_count": null,
   "id": "6f5d6c5a",
   "metadata": {},
   "outputs": [],
   "source": []
  },
  {
   "cell_type": "code",
   "execution_count": null,
   "id": "a445ce7b",
   "metadata": {},
   "outputs": [],
   "source": []
  },
  {
   "cell_type": "code",
   "execution_count": null,
   "id": "7d3bb1dc",
   "metadata": {},
   "outputs": [],
   "source": []
  },
  {
   "cell_type": "code",
   "execution_count": 132,
   "id": "6baa7a99",
   "metadata": {},
   "outputs": [
    {
     "name": "stdout",
     "output_type": "stream",
     "text": [
      "Mean Absolute Error (MAE): 5.308441244979915\n",
      "Mean Squared Error (MSE): 77.66831761371847\n",
      "Root Mean Squared Error (RMSE): 8.812963043932413\n"
     ]
    }
   ],
   "source": [
    "from sklearn.model_selection import GridSearchCV\n",
    "from sklearn.ensemble import RandomForestRegressor\n",
    "\n",
    "#intantiate the regressor\n",
    "rf_reg = RandomForestRegressor(n_estimators=100, random_state=10)\n",
    "\n",
    "# fit the regressor with training dataset\n",
    "rf_reg.fit(X_train, y_train)\n",
    "\n",
    "# predict the values on test dataset using predict()\n",
    "y_pred = rf_reg.predict(X_test)\n",
    "\n",
    "# Calculate MAE\n",
    "rf_reg_MAE = metrics.mean_absolute_error(y_test, y_pred)\n",
    "print('Mean Absolute Error (MAE):', rf_reg_MAE)\n",
    "\n",
    "# Calculate MSE\n",
    "rf_reg_MSE = metrics.mean_squared_error(y_test, y_pred)\n",
    "print('Mean Squared Error (MSE):', rf_reg_MSE)\n",
    "\n",
    "# Calculate RMSE\n",
    "rf_reg_RMSE = np.sqrt(metrics.mean_squared_error(y_test, y_pred))\n",
    "print('Root Mean Squared Error (RMSE):', rf_reg_RMSE)"
   ]
  },
  {
   "cell_type": "code",
   "execution_count": 133,
   "id": "ef946958",
   "metadata": {},
   "outputs": [
    {
     "data": {
      "text/plain": [
       "2.4817582358871046"
      ]
     },
     "execution_count": 133,
     "metadata": {},
     "output_type": "execute_result"
    }
   ],
   "source": [
    "metrics.mean_absolute_error(y_train,rf_reg.predict(X_train) )"
   ]
  },
  {
   "cell_type": "code",
   "execution_count": 134,
   "id": "13f03e4a",
   "metadata": {},
   "outputs": [
    {
     "data": {
      "text/plain": [
       "23.220586806458748"
      ]
     },
     "execution_count": 134,
     "metadata": {},
     "output_type": "execute_result"
    }
   ],
   "source": [
    "metrics.mean_squared_error(y_train,rf_reg.predict(X_train))"
   ]
  },
  {
   "cell_type": "code",
   "execution_count": 135,
   "id": "57797eda",
   "metadata": {},
   "outputs": [
    {
     "data": {
      "text/plain": [
       "4.8187744091686575"
      ]
     },
     "execution_count": 135,
     "metadata": {},
     "output_type": "execute_result"
    }
   ],
   "source": [
    "np.sqrt(metrics.mean_squared_error(y_train,rf_reg.predict(X_train)))"
   ]
  },
  {
   "cell_type": "code",
   "execution_count": null,
   "id": "5218dacc",
   "metadata": {},
   "outputs": [],
   "source": []
  },
  {
   "cell_type": "code",
   "execution_count": 136,
   "id": "617fee76",
   "metadata": {},
   "outputs": [
    {
     "name": "stdout",
     "output_type": "stream",
     "text": [
      "R2_Score is : 0.8740210972983945\n"
     ]
    }
   ],
   "source": [
    "\n",
    "#from sklearn.metrics import cross_val_score\n",
    "print(\"R2_Score is :\",r2_score(y_pred,y_test))"
   ]
  },
  {
   "cell_type": "code",
   "execution_count": null,
   "id": "5594bdbc",
   "metadata": {},
   "outputs": [],
   "source": []
  },
  {
   "cell_type": "code",
   "execution_count": 137,
   "id": "bdca2585",
   "metadata": {},
   "outputs": [
    {
     "name": "stdout",
     "output_type": "stream",
     "text": [
      "R2_Score is : 0.8557909549853073\n",
      "Mean_Absolute_Error is : 5.706626790221773\n",
      "Cross validation score is: 0.8165428955639917\n"
     ]
    }
   ],
   "source": [
    "from sklearn.ensemble import RandomForestRegressor\n",
    "\n",
    "rf=RandomForestRegressor(n_estimators=100,bootstrap=True,oob_score=True,min_samples_split=10,max_depth=10,max_features='log2')\n",
    "rf.fit(X_train,y_train)\n",
    "\n",
    "y_pred=rf.predict(X_test)\n",
    "\n",
    "print(\"R2_Score is :\",r2_score(y_pred,y_test))\n",
    "print(\"Mean_Absolute_Error is :\",mean_absolute_error(y_pred,y_test))\n",
    "\n",
    "x=cross_val_score(rf,X_train,y_train,cv=10,scoring='r2')\n",
    "print('Cross validation score is:',x.mean())"
   ]
  },
  {
   "cell_type": "code",
   "execution_count": 138,
   "id": "e43b1f0d",
   "metadata": {},
   "outputs": [],
   "source": [
    "estimators= [Dr,rf]"
   ]
  },
  {
   "cell_type": "code",
   "execution_count": 139,
   "id": "d8e94bf5",
   "metadata": {},
   "outputs": [
    {
     "name": "stdout",
     "output_type": "stream",
     "text": [
      "R2_Score is : 0.8729942601545346\n",
      "Mean_Absolute_Error is : 5.351003269076301\n",
      "Cross validation score is: 0.8371505720473204\n"
     ]
    }
   ],
   "source": [
    "from sklearn.ensemble import BaggingRegressor\n",
    "br=BaggingRegressor(n_estimators=1000,bootstrap=True,bootstrap_features=False)\n",
    "br.fit(X_train,y_train)\n",
    "\n",
    "y_pred=br.predict(X_test)\n",
    "\n",
    "print(\"R2_Score is :\",r2_score(y_pred,y_test))\n",
    "print(\"Mean_Absolute_Error is :\",mean_absolute_error(y_pred,y_test))\n",
    "\n",
    "x=cross_val_score(br,X_train,y_train,cv=10,scoring='r2')\n",
    "print('Cross validation score is:',x.mean())"
   ]
  },
  {
   "cell_type": "code",
   "execution_count": null,
   "id": "4ff2d88f",
   "metadata": {},
   "outputs": [],
   "source": []
  },
  {
   "cell_type": "code",
   "execution_count": null,
   "id": "a167a20e",
   "metadata": {},
   "outputs": [],
   "source": []
  },
  {
   "cell_type": "code",
   "execution_count": null,
   "id": "ac0efa47",
   "metadata": {},
   "outputs": [],
   "source": []
  },
  {
   "cell_type": "code",
   "execution_count": null,
   "id": "30d4ca5d",
   "metadata": {},
   "outputs": [],
   "source": []
  },
  {
   "cell_type": "code",
   "execution_count": null,
   "id": "4b023648",
   "metadata": {},
   "outputs": [],
   "source": []
  },
  {
   "cell_type": "code",
   "execution_count": null,
   "id": "90bcbb4b",
   "metadata": {},
   "outputs": [],
   "source": []
  },
  {
   "cell_type": "code",
   "execution_count": null,
   "id": "35bad4c4",
   "metadata": {},
   "outputs": [],
   "source": []
  },
  {
   "cell_type": "code",
   "execution_count": null,
   "id": "88df0ff0",
   "metadata": {},
   "outputs": [],
   "source": []
  },
  {
   "cell_type": "code",
   "execution_count": null,
   "id": "fbc3ab27",
   "metadata": {},
   "outputs": [],
   "source": []
  },
  {
   "cell_type": "code",
   "execution_count": null,
   "id": "61fa5537",
   "metadata": {},
   "outputs": [],
   "source": []
  },
  {
   "cell_type": "code",
   "execution_count": null,
   "id": "44f2b6e6",
   "metadata": {},
   "outputs": [],
   "source": []
  },
  {
   "cell_type": "code",
   "execution_count": null,
   "id": "855a5d68",
   "metadata": {},
   "outputs": [],
   "source": []
  },
  {
   "cell_type": "code",
   "execution_count": null,
   "id": "3ab47294",
   "metadata": {},
   "outputs": [],
   "source": []
  },
  {
   "cell_type": "code",
   "execution_count": null,
   "id": "81796aa0",
   "metadata": {},
   "outputs": [],
   "source": []
  },
  {
   "cell_type": "code",
   "execution_count": null,
   "id": "12056f5e",
   "metadata": {},
   "outputs": [],
   "source": [
    "\n"
   ]
  },
  {
   "cell_type": "code",
   "execution_count": null,
   "id": "39ee8279",
   "metadata": {},
   "outputs": [],
   "source": []
  },
  {
   "cell_type": "code",
   "execution_count": null,
   "id": "67c3e085",
   "metadata": {},
   "outputs": [],
   "source": []
  },
  {
   "cell_type": "code",
   "execution_count": null,
   "id": "959ab88b",
   "metadata": {},
   "outputs": [],
   "source": []
  },
  {
   "cell_type": "code",
   "execution_count": null,
   "id": "32311c90",
   "metadata": {},
   "outputs": [],
   "source": []
  },
  {
   "cell_type": "code",
   "execution_count": null,
   "id": "64404ef4",
   "metadata": {},
   "outputs": [],
   "source": []
  },
  {
   "cell_type": "code",
   "execution_count": null,
   "id": "1aa8334b",
   "metadata": {},
   "outputs": [],
   "source": [
    "\n"
   ]
  }
 ],
 "metadata": {
  "kernelspec": {
   "display_name": "Python 3 (ipykernel)",
   "language": "python",
   "name": "python3"
  },
  "language_info": {
   "codemirror_mode": {
    "name": "ipython",
    "version": 3
   },
   "file_extension": ".py",
   "mimetype": "text/x-python",
   "name": "python",
   "nbconvert_exporter": "python",
   "pygments_lexer": "ipython3",
   "version": "3.9.12"
  }
 },
 "nbformat": 4,
 "nbformat_minor": 5
}
